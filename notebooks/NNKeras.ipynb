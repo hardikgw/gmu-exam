{
 "cells": [
  {
   "cell_type": "code",
   "execution_count": null,
   "metadata": {
    "pycharm": {}
   },
   "outputs": [],
   "source": [
    "import sys\n",
    "!{sys.executable} -m pip install numpy\n",
    "!{sys.executable} -m pip install pandas\n",
    "!{sys.executable} -m pip install sklearn\n",
    "!{sys.executable} -m pip install keras\n",
    "!{sys.executable} -m pip install matplotlib"
   ]
  },
  {
   "cell_type": "code",
   "execution_count": null,
   "metadata": {
    "pycharm": {
     "metadata": false,
     "name": "#%%\n"
    }
   },
   "outputs": [],
   "source": [
    "import time\n",
    "import numpy as np\n",
    "import pandas as pd\n",
    "from keras.callbacks import TensorBoard\n",
    "from keras.layers import Dense\n",
    "from keras.models import Sequential\n",
    "from sklearn.model_selection import train_test_split\n",
    "from keras.callbacks import Callback\n",
    "from itertools import groupby\n",
    "from statistics import mean\n",
    "import matplotlib.pyplot as plt\n",
    "from datetime import timedelta\n",
    "from IPython.display import clear_output"
   ]
  },
  {
   "cell_type": "code",
   "execution_count": null,
   "metadata": {
    "pycharm": {
     "metadata": false,
     "name": "#%%\n"
    }
   },
   "outputs": [],
   "source": [
    "def plot_training_summary(training_summary, time_summary=None):\n",
    "    if time_summary:\n",
    "        print('Training time: ' + str(timedelta(seconds=time_summary.training_time)))\n",
    "        print('Epoch time avg: '  + str(timedelta(seconds=mean(time_summary.epoch_times))))\n",
    "    hist = sorted(training_summary.history.items(),\n",
    "                  key=lambda x: (x[0].replace('val_', ''), x[0]))\n",
    "\n",
    "    epochs = [e + 1 for e in training_summary.epoch]\n",
    "    for metric, values in groupby(hist,\n",
    "                                  key=lambda x: x[0].replace('val_', '')):\n",
    "        if 'val_loss' in training_summary.history:\n",
    "            val0, val1 = tuple(values)\n",
    "            plt.plot(epochs, val0[1], epochs, val1[1], '--', marker='o')\n",
    "        else:\n",
    "            val0 = tuple(values)[0]\n",
    "            plt.plot(epochs, val0[1], '--', marker='o')\n",
    "        plt.xlabel('epoch'), plt.ylabel(val0[0])\n",
    "        plt.legend(('Train set', 'Validation set'))\n",
    "        plt.show()"
   ]
  },
  {
   "cell_type": "code",
   "execution_count": null,
   "metadata": {},
   "outputs": [],
   "source": [
    "class TrainingPlot(Callback):\n",
    "    def on_train_begin(self, logs={}):\n",
    "        self.losses = []\n",
    "        self.acc = []\n",
    "        self.val_losses = []\n",
    "        self.val_acc = []\n",
    "        self.logs = []\n",
    "        \n",
    "    def on_epoch_end(self, epoch, logs={}):\n",
    "        self.logs.append(logs)\n",
    "        self.losses.append(logs.get('loss'))\n",
    "        self.acc.append(logs.get('acc'))\n",
    "        self.val_losses.append(logs.get('val_loss'))\n",
    "        self.val_acc.append(logs.get('val_acc'))\n",
    "        \n",
    "        if len(self.losses) > 1:\n",
    "            clear_output(wait=True)\n",
    "            N = np.arange(0, len(self.losses))\n",
    "            plt.style.use(\"seaborn\")\n",
    "            plt.figure()\n",
    "            plt.plot(N, self.losses, label = \"train_loss\")\n",
    "            plt.plot(N, self.acc, label = \"train_acc\")\n",
    "            plt.plot(N, self.val_losses, label = \"val_loss\")\n",
    "            plt.plot(N, self.val_acc, label = \"val_acc\")\n",
    "            plt.title(\"Training Loss and Accuracy [Epoch {}]\".format(epoch))\n",
    "            plt.xlabel(\"Epoch #\")\n",
    "            plt.ylabel(\"Loss/Accuracy\")\n",
    "            plt.legend()\n",
    "            plt.show()\n",
    "\n",
    "plot_losses = TrainingPlot()"
   ]
  },
  {
   "cell_type": "code",
   "execution_count": null,
   "metadata": {
    "pycharm": {
     "metadata": false,
     "name": "#%%\n"
    }
   },
   "outputs": [],
   "source": [
    "class TimeSummary(Callback):\n",
    "    def on_train_begin(self, logs={}):\n",
    "        self.epoch_times = []\n",
    "        self.training_time = time.process_time()\n",
    "\n",
    "    def on_train_end(self, logs={}):\n",
    "        self.training_time = time.process_time() - self.training_time\n",
    "\n",
    "    def on_epoch_begin(self, batch, logs={}):\n",
    "        self.epoch_time_start = time.process_time()\n",
    "\n",
    "    def on_epoch_end(self, batch, logs={}):\n",
    "        self.epoch_times.append(time.process_time() - self.epoch_time_start)"
   ]
  },
  {
   "cell_type": "code",
   "execution_count": null,
   "metadata": {
    "pycharm": {
     "metadata": false,
     "name": "#%%\n"
    }
   },
   "outputs": [],
   "source": [
    "class NNKeras:\n",
    "    def __init__(self, url: str):\n",
    "        self._url = url\n",
    "        self._num_cols = 64\n",
    "        self._call_back = TensorBoard(log_dir='../logs', histogram_freq=0, batch_size=32, write_graph=True, write_grads=False, write_images=False, embeddings_freq=0, embeddings_layer_names=None, embeddings_metadata=None, embeddings_data=None, update_freq='epoch')\n",
    "\n",
    "    def read_data(self):\n",
    "        df = pd.read_csv(self._url, header=None)\n",
    "        X = df.iloc[:, 1:].astype(float)\n",
    "        classes = df.iloc[:, 0]\n",
    "        unique_classes = pd.DataFrame(sorted([c.upper() for c in classes.unique()]))\n",
    "        rows = X.shape[0]\n",
    "        unique_classes['indices'] = range(1, len(unique_classes) + 1)\n",
    "        y = np.zeros((rows, len(unique_classes)), np.bool)\n",
    "        for i in range(rows):\n",
    "            col_idx = np.where(unique_classes.loc[:, 0] == classes[i].upper())\n",
    "            y[i, col_idx] = True\n",
    "        return X, y, unique_classes\n",
    "\n",
    "    def base_model(self, nodes):\n",
    "        model = Sequential()\n",
    "\n",
    "        for prev_node, node in zip(nodes[:-1], nodes[1:]):\n",
    "            model.add(Dense(node, activation='relu', input_dim=prev_node))  # Add the first hidden layer\n",
    "\n",
    "        model.add(Dense(31, activation='sigmoid'))  # Add the output layer\n",
    "        model.compile(optimizer='adam', loss='binary_crossentropy', metrics=['accuracy'])\n",
    "        return model\n",
    "\n",
    "    def train(self, X, y):\n",
    "        X_train, X_test, y_train, y_test = train_test_split(X, y, test_size=0.05, random_state=5)\n",
    "        time_summary = TimeSummary()\n",
    "        for num_nodes in range(2, 100):\n",
    "            nodes = [64, num_nodes]\n",
    "            model = self.base_model(nodes)\n",
    "            summary = model.fit(X_train, y_train, epochs=10, verbose=0, callbacks=[self._call_back,time_summary,plot_losses])\n",
    "            score = model.evaluate(X_test, y_test)\n",
    "            plot_training_summary(summary, time_summary)\n",
    "            print('Test loss:', score[0])\n",
    "            print('Test accuracy:', score[1])"
   ]
  },
  {
   "cell_type": "code",
   "execution_count": null,
   "metadata": {
    "pycharm": {}
   },
   "outputs": [],
   "source": [
    "# nn = NNKeras(\"https://raw.githubusercontent.com/hardikgw/neural-network-poc/master/data/dataset/dataset.csv\")\n",
    "nn = NNKeras(\"/tf/dataset/dataset.csv\")"
   ]
  },
  {
   "cell_type": "code",
   "execution_count": null,
   "metadata": {
    "pycharm": {}
   },
   "outputs": [],
   "source": [
    "X, y, unique_classes = nn.read_data()"
   ]
  },
  {
   "cell_type": "code",
   "execution_count": null,
   "metadata": {
    "pycharm": {}
   },
   "outputs": [],
   "source": [
    "nn.train(X, y)"
   ]
  },
  {
   "cell_type": "code",
   "execution_count": null,
   "metadata": {
    "pycharm": {}
   },
   "outputs": [],
   "source": []
  }
 ],
 "metadata": {
  "kernelspec": {
   "display_name": "Python 3",
   "language": "python",
   "name": "python3"
  },
  "language_info": {
   "codemirror_mode": {
    "name": "ipython",
    "version": 3
   },
   "file_extension": ".py",
   "mimetype": "text/x-python",
   "name": "python",
   "nbconvert_exporter": "python",
   "pygments_lexer": "ipython3",
   "version": "3.5.2"
  }
 },
 "nbformat": 4,
 "nbformat_minor": 2
}
