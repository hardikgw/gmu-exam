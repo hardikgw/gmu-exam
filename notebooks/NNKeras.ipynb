{
 "cells": [
  {
   "cell_type": "code",
   "execution_count": 7,
   "metadata": {},
   "outputs": [
    {
     "name": "stdout",
     "output_type": "stream",
     "text": [
      "Requirement already satisfied: numpy in /usr/local/lib/python3.5/dist-packages (1.16.2)\n",
      "Requirement already satisfied: pandas in /usr/local/lib/python3.5/dist-packages (0.24.2)\n",
      "Requirement already satisfied: pytz>=2011k in /usr/local/lib/python3.5/dist-packages (from pandas) (2018.9)\n",
      "Requirement already satisfied: numpy>=1.12.0 in /usr/local/lib/python3.5/dist-packages (from pandas) (1.16.2)\n",
      "Requirement already satisfied: python-dateutil>=2.5.0 in /usr/local/lib/python3.5/dist-packages (from pandas) (2.8.0)\n",
      "Requirement already satisfied: six>=1.5 in /usr/local/lib/python3.5/dist-packages (from python-dateutil>=2.5.0->pandas) (1.12.0)\n",
      "Requirement already satisfied: sklearn in /usr/local/lib/python3.5/dist-packages (0.0)\n",
      "Requirement already satisfied: scikit-learn in /usr/local/lib/python3.5/dist-packages (from sklearn) (0.20.3)\n",
      "Requirement already satisfied: scipy>=0.13.3 in /usr/local/lib/python3.5/dist-packages (from scikit-learn->sklearn) (1.2.1)\n",
      "Requirement already satisfied: numpy>=1.8.2 in /usr/local/lib/python3.5/dist-packages (from scikit-learn->sklearn) (1.16.2)\n",
      "Requirement already satisfied: keras in /usr/local/lib/python3.5/dist-packages (2.2.4)\n",
      "Requirement already satisfied: keras-applications>=1.0.6 in /usr/local/lib/python3.5/dist-packages (from keras) (1.0.7)\n",
      "Requirement already satisfied: six>=1.9.0 in /usr/local/lib/python3.5/dist-packages (from keras) (1.12.0)\n",
      "Requirement already satisfied: h5py in /usr/local/lib/python3.5/dist-packages (from keras) (2.9.0)\n",
      "Requirement already satisfied: numpy>=1.9.1 in /usr/local/lib/python3.5/dist-packages (from keras) (1.16.2)\n",
      "Requirement already satisfied: pyyaml in /usr/local/lib/python3.5/dist-packages (from keras) (5.1)\n",
      "Requirement already satisfied: scipy>=0.14 in /usr/local/lib/python3.5/dist-packages (from keras) (1.2.1)\n",
      "Requirement already satisfied: keras-preprocessing>=1.0.5 in /usr/local/lib/python3.5/dist-packages (from keras) (1.0.9)\n"
     ]
    }
   ],
   "source": [
    "import sys\n",
    "!{sys.executable} -m pip install numpy\n",
    "!{sys.executable} -m pip install pandas\n",
    "!{sys.executable} -m pip install sklearn\n",
    "!{sys.executable} -m pip install keras"
   ]
  },
  {
   "cell_type": "code",
   "execution_count": 8,
   "metadata": {},
   "outputs": [],
   "source": [
    "import os\n",
    "import numpy as np\n",
    "import pandas as pd\n",
    "\n",
    "from sklearn.model_selection import train_test_split\n",
    "from keras.layers import Conv2D, MaxPooling2D, Flatten, Dense\n",
    "from keras import Sequential\n",
    "from keras.utils import np_utils\n",
    "from keras.layers import Dense\n",
    "from keras.utils import to_categorical\n",
    "from sklearn.preprocessing import LabelEncoder\n",
    "from keras.models import Sequential\n"
   ]
  },
  {
   "cell_type": "code",
   "execution_count": 9,
   "metadata": {},
   "outputs": [],
   "source": [
    "class NNKeras:\n",
    "    def __init__(self, path: str, file: str):\n",
    "        self._path = path\n",
    "        self._file = file\n",
    "        self._num_cols = 64\n",
    "\n",
    "    def read_data(self):\n",
    "        df = pd.read_csv(os.path.join(self._path, self._file), header=None)\n",
    "        X = df.iloc[:, 1:].astype(float)\n",
    "        classes = df.iloc[:, 0]\n",
    "        unique_classes = pd.DataFrame(sorted([c.upper() for c in classes.unique()]))\n",
    "        rows = X.shape[0]\n",
    "        unique_classes['indices'] = range(1, len(unique_classes) + 1)\n",
    "        y = np.zeros((rows, len(unique_classes)), np.bool)\n",
    "        for i in range(rows):\n",
    "            col_idx = np.where(unique_classes.loc[:, 0] == classes[i].upper())\n",
    "            y[i, col_idx] = True\n",
    "        return X, y, unique_classes\n",
    "\n",
    "    def base_model(self, nodes):\n",
    "        model = Sequential()\n",
    "\n",
    "        for prev_node, node in zip(nodes[:-1], nodes[1:]):\n",
    "            model.add(Dense(node, activation='relu', input_dim=prev_node))  # Add the first hidden layer\n",
    "\n",
    "        model.add(Dense(31, activation='sigmoid'))  # Add the output layer\n",
    "        model.compile(optimizer='adam', loss='binary_crossentropy', metrics=['accuracy'])\n",
    "        return model\n",
    "\n",
    "    def train(self, X, y):\n",
    "        X_train, X_test, y_train, y_test = train_test_split(X, y, test_size=0.05, random_state=5)\n",
    "\n",
    "        for num_nodes in range(2, 100):\n",
    "            nodes = [64, num_nodes]\n",
    "            model = self.base_model(nodes)\n",
    "            model.fit(X_train, y_train, epochs=1, verbose=0)\n",
    "            loss, accuracy = model.evaluate(X_test, y_test)\n",
    "            print(num_nodes, accuracy)"
   ]
  },
  {
   "cell_type": "code",
   "execution_count": 10,
   "metadata": {},
   "outputs": [],
   "source": [
    "nn = NNKeras(\"/tf/dataset\", \"dataset.csv\")"
   ]
  },
  {
   "cell_type": "code",
   "execution_count": 11,
   "metadata": {},
   "outputs": [],
   "source": [
    "X, y, unique_classes = nn.read_data()"
   ]
  },
  {
   "cell_type": "code",
   "execution_count": null,
   "metadata": {},
   "outputs": [
    {
     "name": "stdout",
     "output_type": "stream",
     "text": [
      "157/157 [==============================] - 2s 11ms/step\n",
      "2 0.936305732104429\n",
      "157/157 [==============================] - 2s 11ms/step\n",
      "3 0.9677418956331386\n",
      "157/157 [==============================] - 2s 11ms/step\n",
      "4 0.925826960688184\n",
      "157/157 [==============================] - 2s 16ms/step\n",
      "5 0.9369221337281974\n",
      "157/157 [==============================] - 2s 14ms/step\n",
      "6 0.9465790041692698\n",
      "157/157 [==============================] - 3s 16ms/step\n",
      "7 0.9387713199967791\n",
      "157/157 [==============================] - 3s 17ms/step\n",
      "8 0.9677418956331386\n",
      "157/157 [==============================] - 3s 17ms/step\n",
      "9 0.9677418956331386\n",
      "157/157 [==============================] - 5s 32ms/step\n",
      "10 0.9677418956331386\n",
      "157/157 [==============================] - 4s 22ms/step\n",
      "11 0.9383604055756976\n",
      "157/157 [==============================] - 4s 23ms/step\n",
      "12 0.9677418956331386\n",
      "157/157 [==============================] - 4s 26ms/step\n",
      "13 0.9677418956331386\n",
      "157/157 [==============================] - 2s 14ms/step\n",
      "14 0.9677418956331386\n"
     ]
    }
   ],
   "source": [
    "nn.train(X, y)"
   ]
  },
  {
   "cell_type": "code",
   "execution_count": null,
   "metadata": {},
   "outputs": [],
   "source": []
  }
 ],
 "metadata": {
  "kernelspec": {
   "display_name": "Python 3",
   "language": "python",
   "name": "python3"
  },
  "language_info": {
   "codemirror_mode": {
    "name": "ipython",
    "version": 3
   },
   "file_extension": ".py",
   "mimetype": "text/x-python",
   "name": "python",
   "nbconvert_exporter": "python",
   "pygments_lexer": "ipython3",
   "version": "3.5.2"
  }
 },
 "nbformat": 4,
 "nbformat_minor": 2
}
