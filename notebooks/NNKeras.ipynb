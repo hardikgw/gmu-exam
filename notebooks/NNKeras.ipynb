{
  "cells": [
    {
      "cell_type": "markdown",
      "source": "# Neural Network",
      "metadata": {
        "pycharm": {
          "metadata": false,
          "name": "#%% md\n",
          "is_executing": false
        }
      }
    },
    {
      "cell_type": "code",
      "execution_count": null,
      "metadata": {
        "pycharm": {}
      },
      "outputs": [],
      "source": "import sys\n!{sys.executable} -m pip install numpy\n!{sys.executable} -m pip install pandas\n!{sys.executable} -m pip install sklearn\n!{sys.executable} -m pip install keras\n!{sys.executable} -m pip install matplotlib"
    },
    {
      "cell_type": "code",
      "execution_count": 18,
      "metadata": {
        "pycharm": {
          "metadata": false,
          "name": "#%%\n",
          "is_executing": false
        }
      },
      "outputs": [],
      "source": "import utils\nfrom utils import TrainingPlot, TimeSummary, plot_training_summary\nfrom NNKeras import NNKeras\nfrom sklearn.model_selection import train_test_split\nimport inspect\nimport warnings\nwarnings.filterwarnings(\u0027ignore\u0027)"
    },
    {
      "cell_type": "markdown",
      "metadata": {
        "pycharm": {}
      },
      "source": "## Step 1\n### Data Preparation\n\n#### Data Cleanup\n-  Merge 64 size vectors by ignoring line breaks\n-  Create subset of data by selecting non consecutive vectors"
    },
    {
      "cell_type": "markdown",
      "metadata": {
        "pycharm": {}
      },
      "source": [
        "#### Cleaned data\n",
        "L42023,0.04347826,0.04347826,0.,0.04347826,0.01086957,0.02173913,0.,0.02173913,0.,0.,0.,0.,0.,0.02173913,0.02173913,0.04347826,0.07608696,0.02173913,0.,0.0326087,0.01086957,0.,0.,0.0326087,0.,0.01086957,0.,0.0326087,0.,0.,0.,0.0326087,0.05434783,0.,0.01086957,0.02173913,0.04347826,0.,0.01086957,0.02173913,0.02173913,0.,0.,0.01086957,0.0326087,0.,0.04347826,0.0326087,0.01086957,0.01086957,0.,0.02173913,0.04347826,0.01086957,0.,0.01086957,0.,0.,0.,0.,0.04347826,0.02173913,0.,0."
      ]
    },
    {
      "cell_type": "markdown",
      "metadata": {
        "collapsed": true,
        "pycharm": {
          "metadata": false,
          "name": "#%%\n"
        }
      },
      "source": [
        "## Network 1\n",
        "### Create input dataset X and y where X has all vectors and y is one-hot vector"
      ]
    },
    {
      "cell_type": "code",
      "execution_count": 7,
      "metadata": {
        "pycharm": {
          "is_executing": false
        }
      },
      "outputs": [],
      "source": "nn \u003d NNKeras(\"../data/dataset/dataset.csv\")\nX, y, unique_classes \u003d nn.read_data()"
    },
    {
      "cell_type": "code",
      "execution_count": 15,
      "metadata": {
        "pycharm": {
          "is_executing": false
        }
      },
      "outputs": [
        {
          "name": "stdout",
          "text": [
            "Input Vector Shape\n(3131, 64)\nInitialized Training Vector Shape\n(3131, 31)\nInput Vector Head\n         1         2         3         4         5         6         7   \\\n0  0.045455  0.045455  0.000000  0.000000  0.045455  0.318182  0.000000   \n1  0.080000  0.060000  0.000000  0.100000  0.000000  0.000000  0.020000   \n2  0.010482  0.020964  0.002096  0.012579  0.004193  0.031447  0.006289   \n\n         8    9         10  ...        55        56        57        58  \\\n0  0.000000  0.0  0.045455  ...  0.000000  0.000000  0.045455  0.000000   \n1  0.000000  0.0  0.000000  ...  0.000000  0.020000  0.020000  0.040000   \n2  0.006289  0.0  0.014675  ...  0.010482  0.006289  0.000000  0.010482   \n\n        59        60        61        62        63        64  \n0  0.00000  0.000000  0.000000  0.000000  0.000000  0.000000  \n1  0.00000  0.000000  0.020000  0.000000  0.000000  0.000000  \n2  0.02935  0.008386  0.010482  0.020964  0.012579  0.054507  \n\n[3 rows x 64 columns]\nTraining Vector Head\n[[ True False False False False False False False False False False False\n  False False False False False False False False False False False False\n  False False False False False False False]\n [ True False False False False False False False False False False False\n  False False False False False False False False False False False False\n  False False False False False False False]\n [ True False False False False False False False False False False False\n  False False False False False False False False False False False False\n  False False False False False False False]]\nCategories\n"
          ],
          "output_type": "stream"
        },
        {
          "data": {
            "text/plain": "            0  indices\n0    AE014075        1\n1    AE006470        2\n2    AE002161        3\n3    AE000512        4\n4    AE009442        5\n5    AE002098        6\n6    AE000666        7\n7    BA000002        8\n8    AL450380        9\n9    AE000516       10\n10   BA000004       11\n11   AE001437       12\n12   AL139299       13\n13     L77117       14\n14   AB001339       15\n15   AE015924       16\n16   AE000520       17\n17   AE005672       18\n18   NC_00918       19\n19   CP000025       20\n20   AL645882       21\n21     L42023       22\n22   AE004092       23\n23   CP000241       24\n24  NC_000961       25\n25   AE003852       26\n26   AE004091       27\n27   AE003853       28\n28   AE000782       29\n29   AL096836       30\n30   AL009126       31",
            "text/html": "\u003cdiv\u003e\n\u003cstyle scoped\u003e\n    .dataframe tbody tr th:only-of-type {\n        vertical-align: middle;\n    }\n\n    .dataframe tbody tr th {\n        vertical-align: top;\n    }\n\n    .dataframe thead th {\n        text-align: right;\n    }\n\u003c/style\u003e\n\u003ctable border\u003d\"1\" class\u003d\"dataframe\"\u003e\n  \u003cthead\u003e\n    \u003ctr style\u003d\"text-align: right;\"\u003e\n      \u003cth\u003e\u003c/th\u003e\n      \u003cth\u003e0\u003c/th\u003e\n      \u003cth\u003eindices\u003c/th\u003e\n    \u003c/tr\u003e\n  \u003c/thead\u003e\n  \u003ctbody\u003e\n    \u003ctr\u003e\n      \u003cth\u003e0\u003c/th\u003e\n      \u003ctd\u003eAE014075\u003c/td\u003e\n      \u003ctd\u003e1\u003c/td\u003e\n    \u003c/tr\u003e\n    \u003ctr\u003e\n      \u003cth\u003e1\u003c/th\u003e\n      \u003ctd\u003eAE006470\u003c/td\u003e\n      \u003ctd\u003e2\u003c/td\u003e\n    \u003c/tr\u003e\n    \u003ctr\u003e\n      \u003cth\u003e2\u003c/th\u003e\n      \u003ctd\u003eAE002161\u003c/td\u003e\n      \u003ctd\u003e3\u003c/td\u003e\n    \u003c/tr\u003e\n    \u003ctr\u003e\n      \u003cth\u003e3\u003c/th\u003e\n      \u003ctd\u003eAE000512\u003c/td\u003e\n      \u003ctd\u003e4\u003c/td\u003e\n    \u003c/tr\u003e\n    \u003ctr\u003e\n      \u003cth\u003e4\u003c/th\u003e\n      \u003ctd\u003eAE009442\u003c/td\u003e\n      \u003ctd\u003e5\u003c/td\u003e\n    \u003c/tr\u003e\n    \u003ctr\u003e\n      \u003cth\u003e5\u003c/th\u003e\n      \u003ctd\u003eAE002098\u003c/td\u003e\n      \u003ctd\u003e6\u003c/td\u003e\n    \u003c/tr\u003e\n    \u003ctr\u003e\n      \u003cth\u003e6\u003c/th\u003e\n      \u003ctd\u003eAE000666\u003c/td\u003e\n      \u003ctd\u003e7\u003c/td\u003e\n    \u003c/tr\u003e\n    \u003ctr\u003e\n      \u003cth\u003e7\u003c/th\u003e\n      \u003ctd\u003eBA000002\u003c/td\u003e\n      \u003ctd\u003e8\u003c/td\u003e\n    \u003c/tr\u003e\n    \u003ctr\u003e\n      \u003cth\u003e8\u003c/th\u003e\n      \u003ctd\u003eAL450380\u003c/td\u003e\n      \u003ctd\u003e9\u003c/td\u003e\n    \u003c/tr\u003e\n    \u003ctr\u003e\n      \u003cth\u003e9\u003c/th\u003e\n      \u003ctd\u003eAE000516\u003c/td\u003e\n      \u003ctd\u003e10\u003c/td\u003e\n    \u003c/tr\u003e\n    \u003ctr\u003e\n      \u003cth\u003e10\u003c/th\u003e\n      \u003ctd\u003eBA000004\u003c/td\u003e\n      \u003ctd\u003e11\u003c/td\u003e\n    \u003c/tr\u003e\n    \u003ctr\u003e\n      \u003cth\u003e11\u003c/th\u003e\n      \u003ctd\u003eAE001437\u003c/td\u003e\n      \u003ctd\u003e12\u003c/td\u003e\n    \u003c/tr\u003e\n    \u003ctr\u003e\n      \u003cth\u003e12\u003c/th\u003e\n      \u003ctd\u003eAL139299\u003c/td\u003e\n      \u003ctd\u003e13\u003c/td\u003e\n    \u003c/tr\u003e\n    \u003ctr\u003e\n      \u003cth\u003e13\u003c/th\u003e\n      \u003ctd\u003eL77117\u003c/td\u003e\n      \u003ctd\u003e14\u003c/td\u003e\n    \u003c/tr\u003e\n    \u003ctr\u003e\n      \u003cth\u003e14\u003c/th\u003e\n      \u003ctd\u003eAB001339\u003c/td\u003e\n      \u003ctd\u003e15\u003c/td\u003e\n    \u003c/tr\u003e\n    \u003ctr\u003e\n      \u003cth\u003e15\u003c/th\u003e\n      \u003ctd\u003eAE015924\u003c/td\u003e\n      \u003ctd\u003e16\u003c/td\u003e\n    \u003c/tr\u003e\n    \u003ctr\u003e\n      \u003cth\u003e16\u003c/th\u003e\n      \u003ctd\u003eAE000520\u003c/td\u003e\n      \u003ctd\u003e17\u003c/td\u003e\n    \u003c/tr\u003e\n    \u003ctr\u003e\n      \u003cth\u003e17\u003c/th\u003e\n      \u003ctd\u003eAE005672\u003c/td\u003e\n      \u003ctd\u003e18\u003c/td\u003e\n    \u003c/tr\u003e\n    \u003ctr\u003e\n      \u003cth\u003e18\u003c/th\u003e\n      \u003ctd\u003eNC_00918\u003c/td\u003e\n      \u003ctd\u003e19\u003c/td\u003e\n    \u003c/tr\u003e\n    \u003ctr\u003e\n      \u003cth\u003e19\u003c/th\u003e\n      \u003ctd\u003eCP000025\u003c/td\u003e\n      \u003ctd\u003e20\u003c/td\u003e\n    \u003c/tr\u003e\n    \u003ctr\u003e\n      \u003cth\u003e20\u003c/th\u003e\n      \u003ctd\u003eAL645882\u003c/td\u003e\n      \u003ctd\u003e21\u003c/td\u003e\n    \u003c/tr\u003e\n    \u003ctr\u003e\n      \u003cth\u003e21\u003c/th\u003e\n      \u003ctd\u003eL42023\u003c/td\u003e\n      \u003ctd\u003e22\u003c/td\u003e\n    \u003c/tr\u003e\n    \u003ctr\u003e\n      \u003cth\u003e22\u003c/th\u003e\n      \u003ctd\u003eAE004092\u003c/td\u003e\n      \u003ctd\u003e23\u003c/td\u003e\n    \u003c/tr\u003e\n    \u003ctr\u003e\n      \u003cth\u003e23\u003c/th\u003e\n      \u003ctd\u003eCP000241\u003c/td\u003e\n      \u003ctd\u003e24\u003c/td\u003e\n    \u003c/tr\u003e\n    \u003ctr\u003e\n      \u003cth\u003e24\u003c/th\u003e\n      \u003ctd\u003eNC_000961\u003c/td\u003e\n      \u003ctd\u003e25\u003c/td\u003e\n    \u003c/tr\u003e\n    \u003ctr\u003e\n      \u003cth\u003e25\u003c/th\u003e\n      \u003ctd\u003eAE003852\u003c/td\u003e\n      \u003ctd\u003e26\u003c/td\u003e\n    \u003c/tr\u003e\n    \u003ctr\u003e\n      \u003cth\u003e26\u003c/th\u003e\n      \u003ctd\u003eAE004091\u003c/td\u003e\n      \u003ctd\u003e27\u003c/td\u003e\n    \u003c/tr\u003e\n    \u003ctr\u003e\n      \u003cth\u003e27\u003c/th\u003e\n      \u003ctd\u003eAE003853\u003c/td\u003e\n      \u003ctd\u003e28\u003c/td\u003e\n    \u003c/tr\u003e\n    \u003ctr\u003e\n      \u003cth\u003e28\u003c/th\u003e\n      \u003ctd\u003eAE000782\u003c/td\u003e\n      \u003ctd\u003e29\u003c/td\u003e\n    \u003c/tr\u003e\n    \u003ctr\u003e\n      \u003cth\u003e29\u003c/th\u003e\n      \u003ctd\u003eAL096836\u003c/td\u003e\n      \u003ctd\u003e30\u003c/td\u003e\n    \u003c/tr\u003e\n    \u003ctr\u003e\n      \u003cth\u003e30\u003c/th\u003e\n      \u003ctd\u003eAL009126\u003c/td\u003e\n      \u003ctd\u003e31\u003c/td\u003e\n    \u003c/tr\u003e\n  \u003c/tbody\u003e\n\u003c/table\u003e\n\u003c/div\u003e"
          },
          "metadata": {},
          "output_type": "execute_result",
          "execution_count": 15
        }
      ],
      "source": "print(\"Input Vector Shape\")\nprint(X.shape)\nprint(\"Initialized Training Vector Shape\")\nprint(y.shape)\nprint(\"Input Vector Head\")\nprint(X[:3])\nprint(\"Training Vector Head\")\nprint(y[:3])\nprint(\"Categories\")\nunique_classes"
    },
    {
      "cell_type": "markdown",
      "metadata": {
        "pycharm": {}
      },
      "source": "### Prepare Train and Test Data"
    },
    {
      "cell_type": "code",
      "execution_count": 19,
      "metadata": {
        "pycharm": {
          "is_executing": false
        }
      },
      "outputs": [
        {
          "name": "stdout",
          "text": [
            "            1         2         3         4         5         6         7   \\\n2113  0.000000  0.013333  0.005333  0.000000  0.000000  0.026667  0.013333   \n3029  0.075269  0.043011  0.043011  0.021505  0.000000  0.010753  0.000000   \n2130  0.056338  0.004695  0.000000  0.046948  0.014085  0.000000  0.004695   \n\n            8         9         10  ...        55        56        57     58  \\\n2113  0.000000  0.000000  0.008000  ...  0.018667  0.002667  0.002667  0.008   \n3029  0.000000  0.021505  0.000000  ...  0.010753  0.000000  0.000000  0.000   \n2130  0.023474  0.009390  0.004695  ...  0.004695  0.014085  0.000000  0.000   \n\n            59       60        61        62        63        64  \n2113  0.016000  0.00000  0.000000  0.029333  0.002667  0.000000  \n3029  0.010753  0.00000  0.021505  0.010753  0.010753  0.010753  \n2130  0.009390  0.00939  0.042254  0.004695  0.037559  0.028169  \n\n[3 rows x 64 columns]\n[[False False False False False False False False False False False False\n  False False False False False False False False  True False False False\n  False False False False False False False]\n [False False False False False False False False False False False False\n  False False False False False False False False False False False False\n  False False False False False  True False]\n [False False False False False False False False False False False False\n  False False False False False False False False False  True False False\n  False False False False False False False]]\n"
          ],
          "output_type": "stream"
        }
      ],
      "source": "X_train, X_test, y_train, y_test \u003d train_test_split(X, y, test_size\u003d0.2, random_state\u003d5)\nprint(X_train[:3])\nprint(y_train[:3])"
    },
    {
      "cell_type": "markdown",
      "source": "## Step 2\n### Network 1\n-  Create neural network with single hidden layer\n-  Use **Accuracy** as metric of performance  \n",
      "metadata": {
        "pycharm": {
          "metadata": false,
          "name": "#%% md\n"
        }
      }
    },
    {
      "cell_type": "code",
      "execution_count": 5,
      "metadata": {
        "pycharm": {}
      },
      "outputs": [
        {
          "data": {
            "text/plain": [
              "([\u0027    def train(self, X, y, node_range, show_summary: bool \u003d False):\\n\u0027,\n",
              "  \u0027        X_train, X_test, y_train, y_test \u003d train_test_split(X, y, test_size\u003d0.01, random_state\u003d5)\\n\u0027,\n",
              "  \u0027        for num_nodes in node_range:\\n\u0027,\n",
              "  \u0027            nodes \u003d [64, num_nodes]\\n\u0027,\n",
              "  \u0027            model \u003d self.base_model(nodes)\\n\u0027,\n",
              "  \u0027            summary \u003d model.fit(X_train, y_train, epochs\u003d10, verbose\u003d0)\\n\u0027,\n",
              "  \u0027            score \u003d model.evaluate(X_test, y_test)\\n\u0027,\n",
              "  \u0027            if show_summary:\\n\u0027,\n",
              "  \u0027                model.summary()\\n\u0027,\n",
              "  \"            print(\u0027Test loss:\u0027, score[0])\\n\",\n",
              "  \"            print(\u0027Test accuracy:\u0027, score[1])\\n\"],\n",
              " 53)"
            ]
          },
          "execution_count": 5,
          "metadata": {},
          "output_type": "execute_result"
        }
      ],
      "source": "inspect.getsourcelines(nn.train)"
    },
    {
      "cell_type": "code",
      "execution_count": 23,
      "metadata": {
        "pycharm": {
          "is_executing": false
        }
      },
      "outputs": [
        {
          "name": "stdout",
          "text": [
            "\r32/32 [\u003d\u003d\u003d\u003d\u003d\u003d\u003d\u003d\u003d\u003d\u003d\u003d\u003d\u003d\u003d\u003d\u003d\u003d\u003d\u003d\u003d\u003d\u003d\u003d\u003d\u003d\u003d\u003d\u003d\u003d] - 0s 3ms/step\n",
            "Test loss: 0.3824141025543213\nTest accuracy: 0.9677419066429138\n"
          ],
          "output_type": "stream"
        }
      ],
      "source": "nn.train(X, y, range(1, 2), False)"
    },
    {
      "cell_type": "markdown",
      "source": "\u003e  With just single layer we are getting accuracy of 97% Epoch\u003d10",
      "metadata": {
        "pycharm": {
          "metadata": false,
          "name": "#%% md\n"
        }
      }
    },
    {
      "cell_type": "markdown",
      "metadata": {
        "pycharm": {}
      },
      "source": "## Step 3\n### Network 2\n-  Use the same model as step 1 for neurons  \u003d 5 to 32\n-  Measure accuracy at each step to find optimal number of neurons"
    },
    {
      "cell_type": "code",
      "execution_count": 8,
      "metadata": {
        "pycharm": {}
      },
      "outputs": [
        {
          "name": "stdout",
          "output_type": "stream",
          "text": [
            "32/32 [\u003d\u003d\u003d\u003d\u003d\u003d\u003d\u003d\u003d\u003d\u003d\u003d\u003d\u003d\u003d\u003d\u003d\u003d\u003d\u003d\u003d\u003d\u003d\u003d\u003d\u003d\u003d\u003d\u003d\u003d] - 0s 2ms/step\n",
            "Test loss: 0.1429307907819748\n",
            "Test accuracy: 0.9677419066429138\n",
            "32/32 [\u003d\u003d\u003d\u003d\u003d\u003d\u003d\u003d\u003d\u003d\u003d\u003d\u003d\u003d\u003d\u003d\u003d\u003d\u003d\u003d\u003d\u003d\u003d\u003d\u003d\u003d\u003d\u003d\u003d\u003d] - 0s 3ms/step\n",
            "Test loss: 0.14281298220157623\n",
            "Test accuracy: 0.9677419066429138\n",
            "32/32 [\u003d\u003d\u003d\u003d\u003d\u003d\u003d\u003d\u003d\u003d\u003d\u003d\u003d\u003d\u003d\u003d\u003d\u003d\u003d\u003d\u003d\u003d\u003d\u003d\u003d\u003d\u003d\u003d\u003d\u003d] - 0s 4ms/step\n",
            "Test loss: 0.14325407147407532\n",
            "Test accuracy: 0.9677419066429138\n",
            "32/32 [\u003d\u003d\u003d\u003d\u003d\u003d\u003d\u003d\u003d\u003d\u003d\u003d\u003d\u003d\u003d\u003d\u003d\u003d\u003d\u003d\u003d\u003d\u003d\u003d\u003d\u003d\u003d\u003d\u003d\u003d] - 0s 7ms/step\n",
            "Test loss: 0.1425652951002121\n",
            "Test accuracy: 0.9677419066429138\n",
            "32/32 [\u003d\u003d\u003d\u003d\u003d\u003d\u003d\u003d\u003d\u003d\u003d\u003d\u003d\u003d\u003d\u003d\u003d\u003d\u003d\u003d\u003d\u003d\u003d\u003d\u003d\u003d\u003d\u003d\u003d\u003d] - 0s 5ms/step\n",
            "Test loss: 0.14129656553268433\n",
            "Test accuracy: 0.9677419066429138\n",
            "32/32 [\u003d\u003d\u003d\u003d\u003d\u003d\u003d\u003d\u003d\u003d\u003d\u003d\u003d\u003d\u003d\u003d\u003d\u003d\u003d\u003d\u003d\u003d\u003d\u003d\u003d\u003d\u003d\u003d\u003d\u003d] - 0s 5ms/step\n",
            "Test loss: 0.1418779492378235\n",
            "Test accuracy: 0.9677419066429138\n",
            "32/32 [\u003d\u003d\u003d\u003d\u003d\u003d\u003d\u003d\u003d\u003d\u003d\u003d\u003d\u003d\u003d\u003d\u003d\u003d\u003d\u003d\u003d\u003d\u003d\u003d\u003d\u003d\u003d\u003d\u003d\u003d] - 0s 12ms/step\n",
            "Test loss: 0.1425275206565857\n",
            "Test accuracy: 0.9677419066429138\n",
            "32/32 [\u003d\u003d\u003d\u003d\u003d\u003d\u003d\u003d\u003d\u003d\u003d\u003d\u003d\u003d\u003d\u003d\u003d\u003d\u003d\u003d\u003d\u003d\u003d\u003d\u003d\u003d\u003d\u003d\u003d\u003d] - 0s 11ms/step\n",
            "Test loss: 0.1427726298570633\n",
            "Test accuracy: 0.9677419066429138\n",
            "32/32 [\u003d\u003d\u003d\u003d\u003d\u003d\u003d\u003d\u003d\u003d\u003d\u003d\u003d\u003d\u003d\u003d\u003d\u003d\u003d\u003d\u003d\u003d\u003d\u003d\u003d\u003d\u003d\u003d\u003d\u003d] - 0s 8ms/step\n",
            "Test loss: 0.14244911074638367\n",
            "Test accuracy: 0.9677419066429138\n",
            "32/32 [\u003d\u003d\u003d\u003d\u003d\u003d\u003d\u003d\u003d\u003d\u003d\u003d\u003d\u003d\u003d\u003d\u003d\u003d\u003d\u003d\u003d\u003d\u003d\u003d\u003d\u003d\u003d\u003d\u003d\u003d] - 0s 11ms/step\n",
            "Test loss: 0.1420992910861969\n",
            "Test accuracy: 0.9677419066429138\n",
            "32/32 [\u003d\u003d\u003d\u003d\u003d\u003d\u003d\u003d\u003d\u003d\u003d\u003d\u003d\u003d\u003d\u003d\u003d\u003d\u003d\u003d\u003d\u003d\u003d\u003d\u003d\u003d\u003d\u003d\u003d\u003d] - 1s 23ms/step\n",
            "Test loss: 0.14269563555717468\n",
            "Test accuracy: 0.9677419066429138\n",
            "32/32 [\u003d\u003d\u003d\u003d\u003d\u003d\u003d\u003d\u003d\u003d\u003d\u003d\u003d\u003d\u003d\u003d\u003d\u003d\u003d\u003d\u003d\u003d\u003d\u003d\u003d\u003d\u003d\u003d\u003d\u003d] - 1s 16ms/step\n",
            "Test loss: 0.14084286987781525\n",
            "Test accuracy: 0.9677419066429138\n",
            "32/32 [\u003d\u003d\u003d\u003d\u003d\u003d\u003d\u003d\u003d\u003d\u003d\u003d\u003d\u003d\u003d\u003d\u003d\u003d\u003d\u003d\u003d\u003d\u003d\u003d\u003d\u003d\u003d\u003d\u003d\u003d] - 0s 11ms/step\n",
            "Test loss: 0.1416197121143341\n",
            "Test accuracy: 0.9677419066429138\n",
            "32/32 [\u003d\u003d\u003d\u003d\u003d\u003d\u003d\u003d\u003d\u003d\u003d\u003d\u003d\u003d\u003d\u003d\u003d\u003d\u003d\u003d\u003d\u003d\u003d\u003d\u003d\u003d\u003d\u003d\u003d\u003d] - 1s 19ms/step\n",
            "Test loss: 0.14277976751327515\n",
            "Test accuracy: 0.9677419066429138\n",
            "32/32 [\u003d\u003d\u003d\u003d\u003d\u003d\u003d\u003d\u003d\u003d\u003d\u003d\u003d\u003d\u003d\u003d\u003d\u003d\u003d\u003d\u003d\u003d\u003d\u003d\u003d\u003d\u003d\u003d\u003d\u003d] - 1s 20ms/step\n",
            "Test loss: 0.14155976474285126\n",
            "Test accuracy: 0.9677419066429138\n",
            "32/32 [\u003d\u003d\u003d\u003d\u003d\u003d\u003d\u003d\u003d\u003d\u003d\u003d\u003d\u003d\u003d\u003d\u003d\u003d\u003d\u003d\u003d\u003d\u003d\u003d\u003d\u003d\u003d\u003d\u003d\u003d] - 1s 27ms/step\n",
            "Test loss: 0.14243900775909424\n",
            "Test accuracy: 0.9677419066429138\n",
            "32/32 [\u003d\u003d\u003d\u003d\u003d\u003d\u003d\u003d\u003d\u003d\u003d\u003d\u003d\u003d\u003d\u003d\u003d\u003d\u003d\u003d\u003d\u003d\u003d\u003d\u003d\u003d\u003d\u003d\u003d\u003d] - 1s 20ms/step\n",
            "Test loss: 0.14054928719997406\n",
            "Test accuracy: 0.9677419066429138\n",
            "32/32 [\u003d\u003d\u003d\u003d\u003d\u003d\u003d\u003d\u003d\u003d\u003d\u003d\u003d\u003d\u003d\u003d\u003d\u003d\u003d\u003d\u003d\u003d\u003d\u003d\u003d\u003d\u003d\u003d\u003d\u003d] - 0s 13ms/step\n",
            "Test loss: 0.1378220021724701\n",
            "Test accuracy: 0.9677419066429138\n",
            "32/32 [\u003d\u003d\u003d\u003d\u003d\u003d\u003d\u003d\u003d\u003d\u003d\u003d\u003d\u003d\u003d\u003d\u003d\u003d\u003d\u003d\u003d\u003d\u003d\u003d\u003d\u003d\u003d\u003d\u003d\u003d] - 0s 14ms/step\n",
            "Test loss: 0.13677063584327698\n",
            "Test accuracy: 0.9677419066429138\n",
            "32/32 [\u003d\u003d\u003d\u003d\u003d\u003d\u003d\u003d\u003d\u003d\u003d\u003d\u003d\u003d\u003d\u003d\u003d\u003d\u003d\u003d\u003d\u003d\u003d\u003d\u003d\u003d\u003d\u003d\u003d\u003d] - 1s 24ms/step\n",
            "Test loss: 0.1416948139667511\n",
            "Test accuracy: 0.9677419066429138\n",
            "32/32 [\u003d\u003d\u003d\u003d\u003d\u003d\u003d\u003d\u003d\u003d\u003d\u003d\u003d\u003d\u003d\u003d\u003d\u003d\u003d\u003d\u003d\u003d\u003d\u003d\u003d\u003d\u003d\u003d\u003d\u003d] - 1s 25ms/step\n",
            "Test loss: 0.13580386340618134\n",
            "Test accuracy: 0.9677419066429138\n",
            "32/32 [\u003d\u003d\u003d\u003d\u003d\u003d\u003d\u003d\u003d\u003d\u003d\u003d\u003d\u003d\u003d\u003d\u003d\u003d\u003d\u003d\u003d\u003d\u003d\u003d\u003d\u003d\u003d\u003d\u003d\u003d] - 1s 19ms/step\n",
            "Test loss: 0.138200581073761\n",
            "Test accuracy: 0.9677419066429138\n",
            "32/32 [\u003d\u003d\u003d\u003d\u003d\u003d\u003d\u003d\u003d\u003d\u003d\u003d\u003d\u003d\u003d\u003d\u003d\u003d\u003d\u003d\u003d\u003d\u003d\u003d\u003d\u003d\u003d\u003d\u003d\u003d] - 1s 16ms/step\n",
            "Test loss: 0.1381121128797531\n",
            "Test accuracy: 0.9677419066429138\n",
            "32/32 [\u003d\u003d\u003d\u003d\u003d\u003d\u003d\u003d\u003d\u003d\u003d\u003d\u003d\u003d\u003d\u003d\u003d\u003d\u003d\u003d\u003d\u003d\u003d\u003d\u003d\u003d\u003d\u003d\u003d\u003d] - 1s 29ms/step\n",
            "Test loss: 0.13999968767166138\n",
            "Test accuracy: 0.9677419066429138\n",
            "32/32 [\u003d\u003d\u003d\u003d\u003d\u003d\u003d\u003d\u003d\u003d\u003d\u003d\u003d\u003d\u003d\u003d\u003d\u003d\u003d\u003d\u003d\u003d\u003d\u003d\u003d\u003d\u003d\u003d\u003d\u003d] - 1s 18ms/step\n",
            "Test loss: 0.13512934744358063\n",
            "Test accuracy: 0.9677419066429138\n",
            "32/32 [\u003d\u003d\u003d\u003d\u003d\u003d\u003d\u003d\u003d\u003d\u003d\u003d\u003d\u003d\u003d\u003d\u003d\u003d\u003d\u003d\u003d\u003d\u003d\u003d\u003d\u003d\u003d\u003d\u003d\u003d] - 1s 31ms/step\n",
            "Test loss: 0.14227181673049927\n",
            "Test accuracy: 0.9677419066429138\n",
            "32/32 [\u003d\u003d\u003d\u003d\u003d\u003d\u003d\u003d\u003d\u003d\u003d\u003d\u003d\u003d\u003d\u003d\u003d\u003d\u003d\u003d\u003d\u003d\u003d\u003d\u003d\u003d\u003d\u003d\u003d\u003d] - 1s 34ms/step\n",
            "Test loss: 0.13853079080581665\n",
            "Test accuracy: 0.9677419066429138\n"
          ]
        }
      ],
      "source": "nn.train_network_2(X, y, range(5, 32))"
    },
    {
      "cell_type": "markdown",
      "source": "\u003e  Accuraccy is already at 96% in step 1, so we add regularize function to decrease accuracy and determine optimal number of neurons as 6\n\u003e  P\u003d6 ",
      "metadata": {
        "pycharm": {
          "metadata": false,
          "name": "#%% md\n"
        }
      }
    },
    {
      "cell_type": "markdown",
      "metadata": {
        "pycharm": {}
      },
      "source": "## Step 4\n### Network 3\n-  Find optimal number of hidden layers with number of neurons as P/2\n-  Again, since the accuracy is very high, we will have to take regularizer function\n-  P\u003d6, Number of neurons \u003d P/2"
    },
    {
      "cell_type": "code",
      "execution_count": 9,
      "metadata": {
        "pycharm": {}
      },
      "outputs": [
        {
          "data": {
            "text/plain": [
              "([\u0027    def train_network_3(self, X, y):\\n\u0027,\n",
              "  \u0027        X_train, X_test, y_train, y_test \u003d train_test_split(X, y, test_size\u003d0.05, random_state\u003d5)\\n\u0027,\n",
              "  \u0027        P \u003d 6\\n\u0027,\n",
              "  \u0027        for num_layers in range(1, 10):\\n\u0027,\n",
              "  \u0027            nodes \u003d [64] + [int(P / 2)] * num_layers\\n\u0027,\n",
              "  \u0027            model \u003d self.base_model(nodes)\\n\u0027,\n",
              "  \u0027            summary \u003d model.fit(X_train, y_train, epochs\u003d10, verbose\u003d0)\\n\u0027,\n",
              "  \u0027            score \u003d model.evaluate(X_test, y_test)\\n\u0027,\n",
              "  \"            print(\u0027Test loss:\u0027, score[0])\\n\",\n",
              "  \"            print(\u0027Test accuracy:\u0027, score[1])\\n\"],\n",
              " 83)"
            ]
          },
          "execution_count": 9,
          "metadata": {},
          "output_type": "execute_result"
        }
      ],
      "source": [
        "inspect.getsourcelines(nn.train_network_3)"
      ]
    },
    {
      "cell_type": "code",
      "execution_count": 10,
      "metadata": {
        "scrolled": true,
        "pycharm": {}
      },
      "outputs": [
        {
          "name": "stdout",
          "output_type": "stream",
          "text": [
            "157/157 [\u003d\u003d\u003d\u003d\u003d\u003d\u003d\u003d\u003d\u003d\u003d\u003d\u003d\u003d\u003d\u003d\u003d\u003d\u003d\u003d\u003d\u003d\u003d\u003d\u003d\u003d\u003d\u003d\u003d\u003d] - 1s 5ms/step\n",
            "Test loss: 0.16075359085562882\n",
            "Test accuracy: 0.9677418956331386\n",
            "157/157 [\u003d\u003d\u003d\u003d\u003d\u003d\u003d\u003d\u003d\u003d\u003d\u003d\u003d\u003d\u003d\u003d\u003d\u003d\u003d\u003d\u003d\u003d\u003d\u003d\u003d\u003d\u003d\u003d\u003d\u003d] - 1s 5ms/step\n",
            "Test loss: 0.14322554970243176\n",
            "Test accuracy: 0.9677418956331386\n",
            "157/157 [\u003d\u003d\u003d\u003d\u003d\u003d\u003d\u003d\u003d\u003d\u003d\u003d\u003d\u003d\u003d\u003d\u003d\u003d\u003d\u003d\u003d\u003d\u003d\u003d\u003d\u003d\u003d\u003d\u003d\u003d] - 1s 5ms/step\n",
            "Test loss: 0.14281515644234458\n",
            "Test accuracy: 0.9677418956331386\n",
            "157/157 [\u003d\u003d\u003d\u003d\u003d\u003d\u003d\u003d\u003d\u003d\u003d\u003d\u003d\u003d\u003d\u003d\u003d\u003d\u003d\u003d\u003d\u003d\u003d\u003d\u003d\u003d\u003d\u003d\u003d\u003d] - 1s 5ms/step\n",
            "Test loss: 0.1427883968991079\n",
            "Test accuracy: 0.9677418956331386\n",
            "157/157 [\u003d\u003d\u003d\u003d\u003d\u003d\u003d\u003d\u003d\u003d\u003d\u003d\u003d\u003d\u003d\u003d\u003d\u003d\u003d\u003d\u003d\u003d\u003d\u003d\u003d\u003d\u003d\u003d\u003d\u003d] - 1s 5ms/step\n",
            "Test loss: 0.14293263776666798\n",
            "Test accuracy: 0.9677418956331386\n",
            "157/157 [\u003d\u003d\u003d\u003d\u003d\u003d\u003d\u003d\u003d\u003d\u003d\u003d\u003d\u003d\u003d\u003d\u003d\u003d\u003d\u003d\u003d\u003d\u003d\u003d\u003d\u003d\u003d\u003d\u003d\u003d] - 1s 6ms/step\n",
            "Test loss: 0.390590252390333\n",
            "Test accuracy: 0.9677418956331386\n",
            "157/157 [\u003d\u003d\u003d\u003d\u003d\u003d\u003d\u003d\u003d\u003d\u003d\u003d\u003d\u003d\u003d\u003d\u003d\u003d\u003d\u003d\u003d\u003d\u003d\u003d\u003d\u003d\u003d\u003d\u003d\u003d] - 1s 6ms/step\n",
            "Test loss: 0.39060161106146063\n",
            "Test accuracy: 0.9677418956331386\n",
            "157/157 [\u003d\u003d\u003d\u003d\u003d\u003d\u003d\u003d\u003d\u003d\u003d\u003d\u003d\u003d\u003d\u003d\u003d\u003d\u003d\u003d\u003d\u003d\u003d\u003d\u003d\u003d\u003d\u003d\u003d\u003d] - 1s 6ms/step\n",
            "Test loss: 0.14275720819925805\n",
            "Test accuracy: 0.9677418956331386\n",
            "157/157 [\u003d\u003d\u003d\u003d\u003d\u003d\u003d\u003d\u003d\u003d\u003d\u003d\u003d\u003d\u003d\u003d\u003d\u003d\u003d\u003d\u003d\u003d\u003d\u003d\u003d\u003d\u003d\u003d\u003d\u003d] - 1s 7ms/step\n",
            "Test loss: 0.39056740160201003\n",
            "Test accuracy: 0.9677418956331386\n"
          ]
        }
      ],
      "source": "nn.train_network_3(X, y)"
    },
    {
      "cell_type": "markdown",
      "metadata": {
        "pycharm": {}
      },
      "source": "\u003e  Because of high accuracy, we can select number of layers\u003d31"
    },
    {
      "cell_type": "markdown",
      "metadata": {
        "pycharm": {}
      },
      "source": "## Step 5\n### Network 4\n-  Without any conditions, determine optimal architecture\n-  We can run the training module with P\u003d6 and Layers\u003d32"
    },
    {
      "cell_type": "code",
      "execution_count": 11,
      "metadata": {
        "pycharm": {}
      },
      "outputs": [
        {
          "data": {
            "text/plain": [
              "([\u0027    def train_network_4(self, X, y):\\n\u0027,\n",
              "  \u0027        X_train, X_test, y_train, y_test \u003d train_test_split(X, y, test_size\u003d0.05, random_state\u003d5)\\n\u0027,\n",
              "  \u0027        for P in range(2, 12):\\n\u0027,\n",
              "  \u0027            for num_layers in range(1, 5):\\n\u0027,\n",
              "  \u0027                nodes \u003d [64] + [int(P / 2)] * num_layers\\n\u0027,\n",
              "  \u0027                model \u003d self.base_model(nodes)\\n\u0027,\n",
              "  \u0027                summary \u003d model.fit(X_train, y_train, epochs\u003d10, verbose\u003d0)\\n\u0027,\n",
              "  \u0027                score \u003d model.evaluate(X_test, y_test)\\n\u0027,\n",
              "  \"                print(\u0027Test loss:\u0027, score[0])\\n\",\n",
              "  \"                print(\u0027Test accuracy:\u0027, score[1])\\n\",\n",
              "  \"                print(\u0027Nodes:\u0027, P)\\n\"],\n",
              " 94)"
            ]
          },
          "execution_count": 11,
          "metadata": {},
          "output_type": "execute_result"
        }
      ],
      "source": "inspect.getsourcelines(nn.train_with_callback)"
    },
    {
      "cell_type": "code",
      "execution_count": 12,
      "metadata": {
        "pycharm": {}
      },
      "outputs": [
        {
          "name": "stdout",
          "output_type": "stream",
          "text": [
            "157/157 [\u003d\u003d\u003d\u003d\u003d\u003d\u003d\u003d\u003d\u003d\u003d\u003d\u003d\u003d\u003d\u003d\u003d\u003d\u003d\u003d\u003d\u003d\u003d\u003d\u003d\u003d\u003d\u003d\u003d\u003d] - 2s 11ms/step\n",
            "Test loss: 0.1598698948598971\n",
            "Test accuracy: 0.9677418956331386\n",
            "Nodes: 2\n",
            "157/157 [\u003d\u003d\u003d\u003d\u003d\u003d\u003d\u003d\u003d\u003d\u003d\u003d\u003d\u003d\u003d\u003d\u003d\u003d\u003d\u003d\u003d\u003d\u003d\u003d\u003d\u003d\u003d\u003d\u003d\u003d] - 1s 8ms/step\n",
            "Test loss: 0.39059814108405144\n",
            "Test accuracy: 0.9677418956331386\n",
            "Nodes: 2\n",
            "157/157 [\u003d\u003d\u003d\u003d\u003d\u003d\u003d\u003d\u003d\u003d\u003d\u003d\u003d\u003d\u003d\u003d\u003d\u003d\u003d\u003d\u003d\u003d\u003d\u003d\u003d\u003d\u003d\u003d\u003d\u003d] - 1s 8ms/step\n",
            "Test loss: 0.14374571450197013\n",
            "Test accuracy: 0.9677418956331386\n",
            "Nodes: 2\n",
            "157/157 [\u003d\u003d\u003d\u003d\u003d\u003d\u003d\u003d\u003d\u003d\u003d\u003d\u003d\u003d\u003d\u003d\u003d\u003d\u003d\u003d\u003d\u003d\u003d\u003d\u003d\u003d\u003d\u003d\u003d\u003d] - 2s 10ms/step\n",
            "Test loss: 0.3905639768026437\n",
            "Test accuracy: 0.9677418956331386\n",
            "Nodes: 2\n",
            "157/157 [\u003d\u003d\u003d\u003d\u003d\u003d\u003d\u003d\u003d\u003d\u003d\u003d\u003d\u003d\u003d\u003d\u003d\u003d\u003d\u003d\u003d\u003d\u003d\u003d\u003d\u003d\u003d\u003d\u003d\u003d] - 2s 13ms/step\n",
            "Test loss: 0.1599990817581772\n",
            "Test accuracy: 0.9677418956331386\n",
            "Nodes: 3\n",
            "157/157 [\u003d\u003d\u003d\u003d\u003d\u003d\u003d\u003d\u003d\u003d\u003d\u003d\u003d\u003d\u003d\u003d\u003d\u003d\u003d\u003d\u003d\u003d\u003d\u003d\u003d\u003d\u003d\u003d\u003d\u003d] - 2s 12ms/step\n",
            "Test loss: 0.18908511311005635\n",
            "Test accuracy: 0.9677418956331386\n",
            "Nodes: 3\n",
            "157/157 [\u003d\u003d\u003d\u003d\u003d\u003d\u003d\u003d\u003d\u003d\u003d\u003d\u003d\u003d\u003d\u003d\u003d\u003d\u003d\u003d\u003d\u003d\u003d\u003d\u003d\u003d\u003d\u003d\u003d\u003d] - 2s 11ms/step\n",
            "Test loss: 0.1435745235081691\n",
            "Test accuracy: 0.9677418956331386\n",
            "Nodes: 3\n",
            "157/157 [\u003d\u003d\u003d\u003d\u003d\u003d\u003d\u003d\u003d\u003d\u003d\u003d\u003d\u003d\u003d\u003d\u003d\u003d\u003d\u003d\u003d\u003d\u003d\u003d\u003d\u003d\u003d\u003d\u003d\u003d] - 2s 14ms/step\n",
            "Test loss: 0.3905894463988626\n",
            "Test accuracy: 0.9677418956331386\n",
            "Nodes: 3\n",
            "157/157 [\u003d\u003d\u003d\u003d\u003d\u003d\u003d\u003d\u003d\u003d\u003d\u003d\u003d\u003d\u003d\u003d\u003d\u003d\u003d\u003d\u003d\u003d\u003d\u003d\u003d\u003d\u003d\u003d\u003d\u003d] - 2s 12ms/step\n",
            "Test loss: 0.15686268050959157\n",
            "Test accuracy: 0.9677418956331386\n",
            "Nodes: 4\n",
            "157/157 [\u003d\u003d\u003d\u003d\u003d\u003d\u003d\u003d\u003d\u003d\u003d\u003d\u003d\u003d\u003d\u003d\u003d\u003d\u003d\u003d\u003d\u003d\u003d\u003d\u003d\u003d\u003d\u003d\u003d\u003d] - 2s 11ms/step\n",
            "Test loss: 0.39060870078718585\n",
            "Test accuracy: 0.9677418956331386\n",
            "Nodes: 4\n",
            "157/157 [\u003d\u003d\u003d\u003d\u003d\u003d\u003d\u003d\u003d\u003d\u003d\u003d\u003d\u003d\u003d\u003d\u003d\u003d\u003d\u003d\u003d\u003d\u003d\u003d\u003d\u003d\u003d\u003d\u003d\u003d] - 2s 12ms/step\n",
            "Test loss: 0.3906026197846528\n",
            "Test accuracy: 0.9677418956331386\n",
            "Nodes: 4\n",
            "157/157 [\u003d\u003d\u003d\u003d\u003d\u003d\u003d\u003d\u003d\u003d\u003d\u003d\u003d\u003d\u003d\u003d\u003d\u003d\u003d\u003d\u003d\u003d\u003d\u003d\u003d\u003d\u003d\u003d\u003d\u003d] - 2s 11ms/step\n",
            "Test loss: 0.3906031144652397\n",
            "Test accuracy: 0.9677418956331386\n",
            "Nodes: 4\n",
            "157/157 [\u003d\u003d\u003d\u003d\u003d\u003d\u003d\u003d\u003d\u003d\u003d\u003d\u003d\u003d\u003d\u003d\u003d\u003d\u003d\u003d\u003d\u003d\u003d\u003d\u003d\u003d\u003d\u003d\u003d\u003d] - 2s 11ms/step\n",
            "Test loss: 0.14637929846526712\n",
            "Test accuracy: 0.9677418956331386\n",
            "Nodes: 5\n",
            "157/157 [\u003d\u003d\u003d\u003d\u003d\u003d\u003d\u003d\u003d\u003d\u003d\u003d\u003d\u003d\u003d\u003d\u003d\u003d\u003d\u003d\u003d\u003d\u003d\u003d\u003d\u003d\u003d\u003d\u003d\u003d] - 2s 11ms/step\n",
            "Test loss: 0.14272515247961517\n",
            "Test accuracy: 0.9677418956331386\n",
            "Nodes: 5\n",
            "157/157 [\u003d\u003d\u003d\u003d\u003d\u003d\u003d\u003d\u003d\u003d\u003d\u003d\u003d\u003d\u003d\u003d\u003d\u003d\u003d\u003d\u003d\u003d\u003d\u003d\u003d\u003d\u003d\u003d\u003d\u003d] - 2s 14ms/step\n",
            "Test loss: 0.3905864593329703\n",
            "Test accuracy: 0.9677418956331386\n",
            "Nodes: 5\n",
            "157/157 [\u003d\u003d\u003d\u003d\u003d\u003d\u003d\u003d\u003d\u003d\u003d\u003d\u003d\u003d\u003d\u003d\u003d\u003d\u003d\u003d\u003d\u003d\u003d\u003d\u003d\u003d\u003d\u003d\u003d\u003d] - 2s 12ms/step\n",
            "Test loss: 0.3905813688305533\n",
            "Test accuracy: 0.9677418956331386\n",
            "Nodes: 5\n",
            "157/157 [\u003d\u003d\u003d\u003d\u003d\u003d\u003d\u003d\u003d\u003d\u003d\u003d\u003d\u003d\u003d\u003d\u003d\u003d\u003d\u003d\u003d\u003d\u003d\u003d\u003d\u003d\u003d\u003d\u003d\u003d] - 2s 14ms/step\n",
            "Test loss: 0.1459290730725428\n",
            "Test accuracy: 0.9677418956331386\n",
            "Nodes: 6\n",
            "157/157 [\u003d\u003d\u003d\u003d\u003d\u003d\u003d\u003d\u003d\u003d\u003d\u003d\u003d\u003d\u003d\u003d\u003d\u003d\u003d\u003d\u003d\u003d\u003d\u003d\u003d\u003d\u003d\u003d\u003d\u003d] - 2s 13ms/step\n",
            "Test loss: 0.14313362833041293\n",
            "Test accuracy: 0.9677418956331386\n",
            "Nodes: 6\n",
            "157/157 [\u003d\u003d\u003d\u003d\u003d\u003d\u003d\u003d\u003d\u003d\u003d\u003d\u003d\u003d\u003d\u003d\u003d\u003d\u003d\u003d\u003d\u003d\u003d\u003d\u003d\u003d\u003d\u003d\u003d\u003d] - 2s 13ms/step\n",
            "Test loss: 0.1433773672884437\n",
            "Test accuracy: 0.9677418956331386\n",
            "Nodes: 6\n",
            "157/157 [\u003d\u003d\u003d\u003d\u003d\u003d\u003d\u003d\u003d\u003d\u003d\u003d\u003d\u003d\u003d\u003d\u003d\u003d\u003d\u003d\u003d\u003d\u003d\u003d\u003d\u003d\u003d\u003d\u003d\u003d] - 2s 12ms/step\n",
            "Test loss: 0.14256884537305042\n",
            "Test accuracy: 0.9677418956331386\n",
            "Nodes: 6\n",
            "157/157 [\u003d\u003d\u003d\u003d\u003d\u003d\u003d\u003d\u003d\u003d\u003d\u003d\u003d\u003d\u003d\u003d\u003d\u003d\u003d\u003d\u003d\u003d\u003d\u003d\u003d\u003d\u003d\u003d\u003d\u003d] - 2s 14ms/step\n",
            "Test loss: 0.14699704081389556\n",
            "Test accuracy: 0.9677418956331386\n",
            "Nodes: 7\n",
            "157/157 [\u003d\u003d\u003d\u003d\u003d\u003d\u003d\u003d\u003d\u003d\u003d\u003d\u003d\u003d\u003d\u003d\u003d\u003d\u003d\u003d\u003d\u003d\u003d\u003d\u003d\u003d\u003d\u003d\u003d\u003d] - 2s 15ms/step\n",
            "Test loss: 0.14270526246660076\n",
            "Test accuracy: 0.9677418956331386\n",
            "Nodes: 7\n",
            "157/157 [\u003d\u003d\u003d\u003d\u003d\u003d\u003d\u003d\u003d\u003d\u003d\u003d\u003d\u003d\u003d\u003d\u003d\u003d\u003d\u003d\u003d\u003d\u003d\u003d\u003d\u003d\u003d\u003d\u003d\u003d] - 2s 14ms/step\n",
            "Test loss: 0.1428791457300733\n",
            "Test accuracy: 0.9677418956331386\n",
            "Nodes: 7\n",
            "157/157 [\u003d\u003d\u003d\u003d\u003d\u003d\u003d\u003d\u003d\u003d\u003d\u003d\u003d\u003d\u003d\u003d\u003d\u003d\u003d\u003d\u003d\u003d\u003d\u003d\u003d\u003d\u003d\u003d\u003d\u003d] - 2s 14ms/step\n",
            "Test loss: 0.14285955782149248\n",
            "Test accuracy: 0.9677418956331386\n",
            "Nodes: 7\n",
            "157/157 [\u003d\u003d\u003d\u003d\u003d\u003d\u003d\u003d\u003d\u003d\u003d\u003d\u003d\u003d\u003d\u003d\u003d\u003d\u003d\u003d\u003d\u003d\u003d\u003d\u003d\u003d\u003d\u003d\u003d\u003d] - 2s 14ms/step\n",
            "Test loss: 0.14346223196406274\n",
            "Test accuracy: 0.9677418956331386\n",
            "Nodes: 8\n",
            "157/157 [\u003d\u003d\u003d\u003d\u003d\u003d\u003d\u003d\u003d\u003d\u003d\u003d\u003d\u003d\u003d\u003d\u003d\u003d\u003d\u003d\u003d\u003d\u003d\u003d\u003d\u003d\u003d\u003d\u003d\u003d] - 2s 15ms/step\n",
            "Test loss: 0.14308792105905568\n",
            "Test accuracy: 0.9677418956331386\n",
            "Nodes: 8\n",
            "157/157 [\u003d\u003d\u003d\u003d\u003d\u003d\u003d\u003d\u003d\u003d\u003d\u003d\u003d\u003d\u003d\u003d\u003d\u003d\u003d\u003d\u003d\u003d\u003d\u003d\u003d\u003d\u003d\u003d\u003d\u003d] - 3s 16ms/step\n",
            "Test loss: 0.14278550303665696\n",
            "Test accuracy: 0.9677418956331386\n",
            "Nodes: 8\n",
            "157/157 [\u003d\u003d\u003d\u003d\u003d\u003d\u003d\u003d\u003d\u003d\u003d\u003d\u003d\u003d\u003d\u003d\u003d\u003d\u003d\u003d\u003d\u003d\u003d\u003d\u003d\u003d\u003d\u003d\u003d\u003d] - 2s 15ms/step\n",
            "Test loss: 0.14287474428772168\n",
            "Test accuracy: 0.9677418956331386\n",
            "Nodes: 8\n",
            "157/157 [\u003d\u003d\u003d\u003d\u003d\u003d\u003d\u003d\u003d\u003d\u003d\u003d\u003d\u003d\u003d\u003d\u003d\u003d\u003d\u003d\u003d\u003d\u003d\u003d\u003d\u003d\u003d\u003d\u003d\u003d] - 3s 18ms/step\n",
            "Test loss: 0.14453932956145826\n",
            "Test accuracy: 0.9677418956331386\n",
            "Nodes: 9\n",
            "157/157 [\u003d\u003d\u003d\u003d\u003d\u003d\u003d\u003d\u003d\u003d\u003d\u003d\u003d\u003d\u003d\u003d\u003d\u003d\u003d\u003d\u003d\u003d\u003d\u003d\u003d\u003d\u003d\u003d\u003d\u003d] - 3s 21ms/step\n",
            "Test loss: 0.14347165917894641\n",
            "Test accuracy: 0.9677418956331386\n",
            "Nodes: 9\n",
            "157/157 [\u003d\u003d\u003d\u003d\u003d\u003d\u003d\u003d\u003d\u003d\u003d\u003d\u003d\u003d\u003d\u003d\u003d\u003d\u003d\u003d\u003d\u003d\u003d\u003d\u003d\u003d\u003d\u003d\u003d\u003d] - 3s 19ms/step\n",
            "Test loss: 0.14276918113990955\n",
            "Test accuracy: 0.9677418956331386\n",
            "Nodes: 9\n",
            "157/157 [\u003d\u003d\u003d\u003d\u003d\u003d\u003d\u003d\u003d\u003d\u003d\u003d\u003d\u003d\u003d\u003d\u003d\u003d\u003d\u003d\u003d\u003d\u003d\u003d\u003d\u003d\u003d\u003d\u003d\u003d] - 3s 22ms/step\n",
            "Test loss: 0.14299120549943037\n",
            "Test accuracy: 0.9677418956331386\n",
            "Nodes: 9\n",
            "157/157 [\u003d\u003d\u003d\u003d\u003d\u003d\u003d\u003d\u003d\u003d\u003d\u003d\u003d\u003d\u003d\u003d\u003d\u003d\u003d\u003d\u003d\u003d\u003d\u003d\u003d\u003d\u003d\u003d\u003d\u003d] - 3s 19ms/step\n",
            "Test loss: 0.16121473604706443\n",
            "Test accuracy: 0.9677418956331386\n",
            "Nodes: 10\n",
            "157/157 [\u003d\u003d\u003d\u003d\u003d\u003d\u003d\u003d\u003d\u003d\u003d\u003d\u003d\u003d\u003d\u003d\u003d\u003d\u003d\u003d\u003d\u003d\u003d\u003d\u003d\u003d\u003d\u003d\u003d\u003d] - 3s 18ms/step\n",
            "Test loss: 0.14268576548357678\n",
            "Test accuracy: 0.9677418956331386\n",
            "Nodes: 10\n",
            "157/157 [\u003d\u003d\u003d\u003d\u003d\u003d\u003d\u003d\u003d\u003d\u003d\u003d\u003d\u003d\u003d\u003d\u003d\u003d\u003d\u003d\u003d\u003d\u003d\u003d\u003d\u003d\u003d\u003d\u003d\u003d] - 4s 24ms/step\n",
            "Test loss: 0.14275028390489566\n",
            "Test accuracy: 0.9677418956331386\n",
            "Nodes: 10\n",
            "157/157 [\u003d\u003d\u003d\u003d\u003d\u003d\u003d\u003d\u003d\u003d\u003d\u003d\u003d\u003d\u003d\u003d\u003d\u003d\u003d\u003d\u003d\u003d\u003d\u003d\u003d\u003d\u003d\u003d\u003d\u003d] - 4s 23ms/step\n",
            "Test loss: 0.14284230313103669\n",
            "Test accuracy: 0.9677418956331386\n",
            "Nodes: 10\n",
            "157/157 [\u003d\u003d\u003d\u003d\u003d\u003d\u003d\u003d\u003d\u003d\u003d\u003d\u003d\u003d\u003d\u003d\u003d\u003d\u003d\u003d\u003d\u003d\u003d\u003d\u003d\u003d\u003d\u003d\u003d\u003d] - 3s 21ms/step\n",
            "Test loss: 0.14295428080163944\n",
            "Test accuracy: 0.9677418956331386\n",
            "Nodes: 11\n",
            "157/157 [\u003d\u003d\u003d\u003d\u003d\u003d\u003d\u003d\u003d\u003d\u003d\u003d\u003d\u003d\u003d\u003d\u003d\u003d\u003d\u003d\u003d\u003d\u003d\u003d\u003d\u003d\u003d\u003d\u003d\u003d] - 3s 20ms/step\n",
            "Test loss: 0.1428841942814505\n",
            "Test accuracy: 0.9677418956331386\n",
            "Nodes: 11\n",
            "157/157 [\u003d\u003d\u003d\u003d\u003d\u003d\u003d\u003d\u003d\u003d\u003d\u003d\u003d\u003d\u003d\u003d\u003d\u003d\u003d\u003d\u003d\u003d\u003d\u003d\u003d\u003d\u003d\u003d\u003d\u003d] - 3s 19ms/step\n",
            "Test loss: 0.14337871199960162\n",
            "Test accuracy: 0.9677418956331386\n",
            "Nodes: 11\n",
            "157/157 [\u003d\u003d\u003d\u003d\u003d\u003d\u003d\u003d\u003d\u003d\u003d\u003d\u003d\u003d\u003d\u003d\u003d\u003d\u003d\u003d\u003d\u003d\u003d\u003d\u003d\u003d\u003d\u003d\u003d\u003d] - 3s 22ms/step\n",
            "Test loss: 0.14291843572619614\n",
            "Test accuracy: 0.9677418956331386\n",
            "Nodes: 11\n"
          ]
        }
      ],
      "source": "nn.train_with_callback(X, y)\n# Validation\n### In this dataset, our neural network reaches accuracy of 96% with sample data and 98% with full dataset. Hence it is necessary to validate the accuracy of data with trained model.\n### Keras allows callbacks for training visualization. Function below runs for 200 epochs with 32 neurons and saves the model"
    },
    {
      "cell_type": "code",
      "execution_count": null,
      "outputs": [],
      "source": "inspect.getsourcelines(nn.train_with_callback)",
      "metadata": {
        "pycharm": {
          "metadata": false,
          "name": "#%%\n"
        }
      }
    },
    {
      "cell_type": "code",
      "execution_count": null,
      "outputs": [],
      "source": "nn.train_with_callback(X, y, \u0027/tf/models/model.h5\u0027)",
      "metadata": {
        "pycharm": {
          "metadata": false,
          "name": "#%%\n"
        }
      }
    },
    {
      "cell_type": "markdown",
      "source": "### Predict from souce data",
      "metadata": {
        "pycharm": {
          "metadata": false
        }
      }
    },
    {
      "cell_type": "code",
      "execution_count": null,
      "outputs": [],
      "source": "inspect.getsourcelines(nn.predict)",
      "metadata": {
        "pycharm": {
          "metadata": false,
          "name": "#%%\n"
        }
      }
    },
    {
      "cell_type": "code",
      "execution_count": null,
      "outputs": [],
      "source": "nn.predict(\"/tf/dataset/ae002161.csv\", unique_classes, 5, \"/tf/models/model.h5\")",
      "metadata": {
        "pycharm": {
          "metadata": false,
          "name": "#%%\n"
        }
      }
    },
    {
      "cell_type": "code",
      "execution_count": null,
      "outputs": [],
      "source": "nn.predict(\"/tf/dataset/ae003852.csv\", unique_classes, 5, \"/tf/models/model.h5\")",
      "metadata": {
        "pycharm": {
          "metadata": false,
          "name": "#%%\n"
        }
      }
    },
    {
      "cell_type": "markdown",
      "metadata": {
        "pycharm": {}
      },
      "source": "\u003e  As we can see that the accuracy is as expected for the first case but for second, it is less than expected."
    },
    {
      "cell_type": "markdown",
      "source": "## Step 6\n### Network 5\n-  We will use same training function with each column of y as 1D matrix\n-  Take average of each inidividual prediction",
      "metadata": {
        "pycharm": {
          "metadata": false
        }
      }
    },
    {
      "cell_type": "code",
      "execution_count": 14,
      "metadata": {
        "pycharm": {}
      },
      "outputs": [
        {
          "data": {
            "text/plain": [
              "([\u0027    def train_network_4(self, X, y):\\n\u0027,\n",
              "  \u0027        X_train, X_test, y_train, y_test \u003d train_test_split(X, y, test_size\u003d0.05, random_state\u003d5)\\n\u0027,\n",
              "  \u0027        for P in range(2, 12):\\n\u0027,\n",
              "  \u0027            for num_layers in range(1, 5):\\n\u0027,\n",
              "  \u0027                nodes \u003d [64] + [int(P / 2)] * num_layers\\n\u0027,\n",
              "  \u0027                model \u003d self.base_model(nodes)\\n\u0027,\n",
              "  \u0027                summary \u003d model.fit(X_train, y_train, epochs\u003d10, verbose\u003d0)\\n\u0027,\n",
              "  \u0027                score \u003d model.evaluate(X_test, y_test)\\n\u0027,\n",
              "  \"                print(\u0027Test loss:\u0027, score[0])\\n\",\n",
              "  \"                print(\u0027Test accuracy:\u0027, score[1])\\n\",\n",
              "  \"                print(\u0027Nodes:\u0027, P)\\n\"],\n",
              " 94)"
            ]
          },
          "execution_count": 14,
          "metadata": {},
          "output_type": "execute_result"
        }
      ],
      "source": "inspect.getsourcelines(nn.train_network_4)"
    },
    {
      "cell_type": "code",
      "execution_count": 15,
      "metadata": {
        "pycharm": {}
      },
      "outputs": [
        {
          "name": "stdout",
          "output_type": "stream",
          "text": [
            "157/157 [\u003d\u003d\u003d\u003d\u003d\u003d\u003d\u003d\u003d\u003d\u003d\u003d\u003d\u003d\u003d\u003d\u003d\u003d\u003d\u003d\u003d\u003d\u003d\u003d\u003d\u003d\u003d\u003d\u003d\u003d] - 6s 37ms/step\n",
            "Test loss: 0.07583794576726902\n",
            "Test accuracy: 0.9872611430799885\n",
            "157/157 [\u003d\u003d\u003d\u003d\u003d\u003d\u003d\u003d\u003d\u003d\u003d\u003d\u003d\u003d\u003d\u003d\u003d\u003d\u003d\u003d\u003d\u003d\u003d\u003d\u003d\u003d\u003d\u003d\u003d\u003d] - 4s 25ms/step\n",
            "Test loss: 0.17010452925779257\n",
            "Test accuracy: 0.961783436073619\n",
            "157/157 [\u003d\u003d\u003d\u003d\u003d\u003d\u003d\u003d\u003d\u003d\u003d\u003d\u003d\u003d\u003d\u003d\u003d\u003d\u003d\u003d\u003d\u003d\u003d\u003d\u003d\u003d\u003d\u003d\u003d\u003d] - 3s 21ms/step\n",
            "Test loss: 0.13488652044610613\n",
            "Test accuracy: 0.9681528662420382\n",
            "157/157 [\u003d\u003d\u003d\u003d\u003d\u003d\u003d\u003d\u003d\u003d\u003d\u003d\u003d\u003d\u003d\u003d\u003d\u003d\u003d\u003d\u003d\u003d\u003d\u003d\u003d\u003d\u003d\u003d\u003d\u003d] - 3s 21ms/step\n",
            "Test loss: 0.13914919108342214\n",
            "Test accuracy: 0.9745222971697521\n",
            "157/157 [\u003d\u003d\u003d\u003d\u003d\u003d\u003d\u003d\u003d\u003d\u003d\u003d\u003d\u003d\u003d\u003d\u003d\u003d\u003d\u003d\u003d\u003d\u003d\u003d\u003d\u003d\u003d\u003d\u003d\u003d] - 3s 22ms/step\n",
            "Test loss: 0.09924551692737896\n",
            "Test accuracy: 0.9808917163283961\n",
            "157/157 [\u003d\u003d\u003d\u003d\u003d\u003d\u003d\u003d\u003d\u003d\u003d\u003d\u003d\u003d\u003d\u003d\u003d\u003d\u003d\u003d\u003d\u003d\u003d\u003d\u003d\u003d\u003d\u003d\u003d\u003d] - 4s 26ms/step\n",
            "Test loss: 0.2000415163814642\n",
            "Test accuracy: 0.9490445833297292\n",
            "157/157 [\u003d\u003d\u003d\u003d\u003d\u003d\u003d\u003d\u003d\u003d\u003d\u003d\u003d\u003d\u003d\u003d\u003d\u003d\u003d\u003d\u003d\u003d\u003d\u003d\u003d\u003d\u003d\u003d\u003d\u003d] - 4s 22ms/step\n",
            "Test loss: 0.1971288748607514\n",
            "Test accuracy: 0.9490445901633827\n",
            "157/157 [\u003d\u003d\u003d\u003d\u003d\u003d\u003d\u003d\u003d\u003d\u003d\u003d\u003d\u003d\u003d\u003d\u003d\u003d\u003d\u003d\u003d\u003d\u003d\u003d\u003d\u003d\u003d\u003d\u003d\u003d] - 4s 26ms/step\n",
            "Test loss: 0.11046221425199206\n",
            "Test accuracy: 0.9745222895768038\n",
            "157/157 [\u003d\u003d\u003d\u003d\u003d\u003d\u003d\u003d\u003d\u003d\u003d\u003d\u003d\u003d\u003d\u003d\u003d\u003d\u003d\u003d\u003d\u003d\u003d\u003d\u003d\u003d\u003d\u003d\u003d\u003d] - 4s 23ms/step\n",
            "Test loss: 0.09629557155974351\n",
            "Test accuracy: 0.9808917197452229\n",
            "157/157 [\u003d\u003d\u003d\u003d\u003d\u003d\u003d\u003d\u003d\u003d\u003d\u003d\u003d\u003d\u003d\u003d\u003d\u003d\u003d\u003d\u003d\u003d\u003d\u003d\u003d\u003d\u003d\u003d\u003d\u003d] - 4s 23ms/step\n",
            "Test loss: 0.21777172547996423\n",
            "Test accuracy: 0.942675155818842\n",
            "157/157 [\u003d\u003d\u003d\u003d\u003d\u003d\u003d\u003d\u003d\u003d\u003d\u003d\u003d\u003d\u003d\u003d\u003d\u003d\u003d\u003d\u003d\u003d\u003d\u003d\u003d\u003d\u003d\u003d\u003d\u003d] - 4s 22ms/step\n",
            "Test loss: 0.18068225691272954\n",
            "Test accuracy: 0.9554140127388535\n",
            "157/157 [\u003d\u003d\u003d\u003d\u003d\u003d\u003d\u003d\u003d\u003d\u003d\u003d\u003d\u003d\u003d\u003d\u003d\u003d\u003d\u003d\u003d\u003d\u003d\u003d\u003d\u003d\u003d\u003d\u003d\u003d] - 3s 22ms/step\n",
            "Test loss: 0.1303649046428644\n",
            "Test accuracy: 0.9681528628252114\n",
            "157/157 [\u003d\u003d\u003d\u003d\u003d\u003d\u003d\u003d\u003d\u003d\u003d\u003d\u003d\u003d\u003d\u003d\u003d\u003d\u003d\u003d\u003d\u003d\u003d\u003d\u003d\u003d\u003d\u003d\u003d\u003d] - 4s 24ms/step\n",
            "Test loss: 0.15864239908327724\n",
            "Test accuracy: 0.9617834436665674\n",
            "157/157 [\u003d\u003d\u003d\u003d\u003d\u003d\u003d\u003d\u003d\u003d\u003d\u003d\u003d\u003d\u003d\u003d\u003d\u003d\u003d\u003d\u003d\u003d\u003d\u003d\u003d\u003d\u003d\u003d\u003d\u003d] - 4s 24ms/step\n",
            "Test loss: 0.12973486492113703\n",
            "Test accuracy: 0.9681528662420382\n",
            "157/157 [\u003d\u003d\u003d\u003d\u003d\u003d\u003d\u003d\u003d\u003d\u003d\u003d\u003d\u003d\u003d\u003d\u003d\u003d\u003d\u003d\u003d\u003d\u003d\u003d\u003d\u003d\u003d\u003d\u003d\u003d] - 4s 25ms/step\n",
            "Test loss: 0.10182386674698751\n",
            "Test accuracy: 0.9808917239213445\n",
            "157/157 [\u003d\u003d\u003d\u003d\u003d\u003d\u003d\u003d\u003d\u003d\u003d\u003d\u003d\u003d\u003d\u003d\u003d\u003d\u003d\u003d\u003d\u003d\u003d\u003d\u003d\u003d\u003d\u003d\u003d\u003d] - 4s 24ms/step\n",
            "Test loss: 0.05528550049301925\n",
            "Test accuracy: 0.9936305698315808\n",
            "157/157 [\u003d\u003d\u003d\u003d\u003d\u003d\u003d\u003d\u003d\u003d\u003d\u003d\u003d\u003d\u003d\u003d\u003d\u003d\u003d\u003d\u003d\u003d\u003d\u003d\u003d\u003d\u003d\u003d\u003d\u003d] - 4s 24ms/step\n",
            "Test loss: 0.21975410088991662\n",
            "Test accuracy: 0.942675155818842\n",
            "157/157 [\u003d\u003d\u003d\u003d\u003d\u003d\u003d\u003d\u003d\u003d\u003d\u003d\u003d\u003d\u003d\u003d\u003d\u003d\u003d\u003d\u003d\u003d\u003d\u003d\u003d\u003d\u003d\u003d\u003d\u003d] - 4s 26ms/step\n",
            "Test loss: 0.09572034065795552\n",
            "Test accuracy: 0.9808917197452229\n",
            "157/157 [\u003d\u003d\u003d\u003d\u003d\u003d\u003d\u003d\u003d\u003d\u003d\u003d\u003d\u003d\u003d\u003d\u003d\u003d\u003d\u003d\u003d\u003d\u003d\u003d\u003d\u003d\u003d\u003d\u003d\u003d] - 4s 26ms/step\n",
            "Test loss: 0.13727590619663524\n",
            "Test accuracy: 0.9681528662420382\n",
            "157/157 [\u003d\u003d\u003d\u003d\u003d\u003d\u003d\u003d\u003d\u003d\u003d\u003d\u003d\u003d\u003d\u003d\u003d\u003d\u003d\u003d\u003d\u003d\u003d\u003d\u003d\u003d\u003d\u003d\u003d\u003d] - 4s 25ms/step\n",
            "Test loss: 0.11868459909300136\n",
            "Test accuracy: 0.9745222929936306\n",
            "157/157 [\u003d\u003d\u003d\u003d\u003d\u003d\u003d\u003d\u003d\u003d\u003d\u003d\u003d\u003d\u003d\u003d\u003d\u003d\u003d\u003d\u003d\u003d\u003d\u003d\u003d\u003d\u003d\u003d\u003d\u003d] - 4s 25ms/step\n",
            "Test loss: 0.08331460453522434\n",
            "Test accuracy: 0.9808917197452229\n",
            "157/157 [\u003d\u003d\u003d\u003d\u003d\u003d\u003d\u003d\u003d\u003d\u003d\u003d\u003d\u003d\u003d\u003d\u003d\u003d\u003d\u003d\u003d\u003d\u003d\u003d\u003d\u003d\u003d\u003d\u003d\u003d] - 4s 26ms/step\n",
            "Test loss: 0.11388959937319634\n",
            "Test accuracy: 0.9745222929936306\n",
            "157/157 [\u003d\u003d\u003d\u003d\u003d\u003d\u003d\u003d\u003d\u003d\u003d\u003d\u003d\u003d\u003d\u003d\u003d\u003d\u003d\u003d\u003d\u003d\u003d\u003d\u003d\u003d\u003d\u003d\u003d\u003d] - 4s 26ms/step\n",
            "Test loss: 0.1352458762325299\n",
            "Test accuracy: 0.9681528704181598\n",
            "157/157 [\u003d\u003d\u003d\u003d\u003d\u003d\u003d\u003d\u003d\u003d\u003d\u003d\u003d\u003d\u003d\u003d\u003d\u003d\u003d\u003d\u003d\u003d\u003d\u003d\u003d\u003d\u003d\u003d\u003d\u003d] - 4s 27ms/step\n",
            "Test loss: 0.13964616355432827\n",
            "Test accuracy: 0.9681528662420382\n",
            "157/157 [\u003d\u003d\u003d\u003d\u003d\u003d\u003d\u003d\u003d\u003d\u003d\u003d\u003d\u003d\u003d\u003d\u003d\u003d\u003d\u003d\u003d\u003d\u003d\u003d\u003d\u003d\u003d\u003d\u003d\u003d] - 4s 25ms/step\n",
            "Test loss: 0.40086820588749683\n",
            "Test accuracy: 0.9554140169149751\n",
            "157/157 [\u003d\u003d\u003d\u003d\u003d\u003d\u003d\u003d\u003d\u003d\u003d\u003d\u003d\u003d\u003d\u003d\u003d\u003d\u003d\u003d\u003d\u003d\u003d\u003d\u003d\u003d\u003d\u003d\u003d\u003d] - 4s 26ms/step\n",
            "Test loss: 0.13818172479321242\n",
            "Test accuracy: 0.9745222929936306\n",
            "157/157 [\u003d\u003d\u003d\u003d\u003d\u003d\u003d\u003d\u003d\u003d\u003d\u003d\u003d\u003d\u003d\u003d\u003d\u003d\u003d\u003d\u003d\u003d\u003d\u003d\u003d\u003d\u003d\u003d\u003d\u003d] - 4s 26ms/step\n",
            "Test loss: 0.08841051512463077\n",
            "Test accuracy: 0.9808917163283961\n",
            "157/157 [\u003d\u003d\u003d\u003d\u003d\u003d\u003d\u003d\u003d\u003d\u003d\u003d\u003d\u003d\u003d\u003d\u003d\u003d\u003d\u003d\u003d\u003d\u003d\u003d\u003d\u003d\u003d\u003d\u003d\u003d] - 4s 26ms/step\n",
            "Test loss: 0.09731569810278097\n",
            "Test accuracy: 0.9808917163283961\n",
            "157/157 [\u003d\u003d\u003d\u003d\u003d\u003d\u003d\u003d\u003d\u003d\u003d\u003d\u003d\u003d\u003d\u003d\u003d\u003d\u003d\u003d\u003d\u003d\u003d\u003d\u003d\u003d\u003d\u003d\u003d\u003d] - 4s 26ms/step\n",
            "Test loss: 0.17801986546937826\n",
            "Test accuracy: 0.9554140127388535\n",
            "157/157 [\u003d\u003d\u003d\u003d\u003d\u003d\u003d\u003d\u003d\u003d\u003d\u003d\u003d\u003d\u003d\u003d\u003d\u003d\u003d\u003d\u003d\u003d\u003d\u003d\u003d\u003d\u003d\u003d\u003d\u003d] - 4s 27ms/step\n",
            "Test loss: 0.17922668728479155\n",
            "Test accuracy: 0.9554140127388535\n"
          ]
        },
        {
          "data": {
            "text/plain": [
              "0.9373330589998471"
            ]
          },
          "execution_count": 15,
          "metadata": {},
          "output_type": "execute_result"
        }
      ],
      "source": "avg_score \u003d nn.single_output_score(X, y)\navg_score"
    },
    {
      "cell_type": "markdown",
      "source": "\u003e  Average accuracy of individual prediction is less than overall prediction accuracy. Hence, we can conclude that it is better to create one network with N output neurons than N networks each with one output neuron.",
      "metadata": {
        "pycharm": {
          "metadata": false,
          "name": "#%% md\n"
        }
      }
    },
    {
      "cell_type": "markdown",
      "metadata": {
        "pycharm": {}
      },
      "source": "---"
    },
    {
      "cell_type": "code",
      "execution_count": null,
      "metadata": {
        "pycharm": {}
      },
      "outputs": [],
      "source": "from sklearn.tree import DecisionTreeClassifier\nfrom sklearn.metrics import accuracy_score\n\n\nX_train, X_test, y_train, y_test \u003d train_test_split(X, y, test_size\u003d0.2, random_state\u003d5)\nprint(X.shape)\nprint(y.shape)\n\ntmp \u003d DecisionTreeClassifier(min_samples_leaf\u003d10)\ntmp.fit(X_train, y_train)\ny_pred \u003d tmp.predict(X_test)\nprint(\u0027test\u0027, accuracy_score(y_pred, y_test))\ny_pred_train \u003d tmp.predict(X_train)\nprint(\u0027train\u0027, accuracy_score(y_pred_train, y_train))"
    },
    {
      "cell_type": "code",
      "execution_count": null,
      "metadata": {
        "pycharm": {}
      },
      "outputs": [],
      "source": [
        "from sklearn.decomposition import PCA\n",
        "\n",
        "pca \u003d PCA(n_components\u003d2)\n",
        "pca.fit(X_train)\n",
        "# print(pca.components_)\n",
        "X_proj \u003d pca.transform(X_test)\n",
        "\n",
        "f, ax \u003d plt.subplots(2, sharex\u003dTrue)\n",
        "f.set_figheight(10)\n",
        "ax[0].scatter(X_proj[:, 0], X_proj[:, 1], c\u003dnp.argmax(y_test, axis\u003d1), alpha\u003d0.9)\n",
        "ax[1].scatter(X_proj[:, 0], X_proj[:, 1], c\u003dnp.argmax(y_pred, axis\u003d1), alpha\u003d0.9)"
      ]
    }
  ],
  "metadata": {
    "kernelspec": {
      "display_name": "Python 3",
      "language": "python",
      "name": "python3"
    },
    "language_info": {
      "codemirror_mode": {
        "name": "ipython",
        "version": 3
      },
      "file_extension": ".py",
      "mimetype": "text/x-python",
      "name": "python",
      "nbconvert_exporter": "python",
      "pygments_lexer": "ipython3",
      "version": "3.5.2"
    },
    "stem_cell": {
      "cell_type": "raw",
      "source": "",
      "metadata": {
        "pycharm": {
          "metadata": false
        }
      }
    }
  },
  "nbformat": 4,
  "nbformat_minor": 2
}