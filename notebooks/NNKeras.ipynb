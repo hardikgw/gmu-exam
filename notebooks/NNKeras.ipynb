{
 "cells": [
  {
   "cell_type": "code",
   "execution_count": null,
   "metadata": {
    "pycharm": {}
   },
   "outputs": [],
   "source": [
    "import sys\n",
    "!{sys.executable} -m pip install numpy\n",
    "!{sys.executable} -m pip install pandas\n",
    "!{sys.executable} -m pip install sklearn\n",
    "!{sys.executable} -m pip install keras\n",
    "!{sys.executable} -m pip install matplotlib"
   ]
  },
  {
   "cell_type": "code",
   "execution_count": 1,
   "metadata": {
    "pycharm": {
     "metadata": false,
     "name": "#%%\n"
    }
   },
   "outputs": [
    {
     "name": "stderr",
     "output_type": "stream",
     "text": [
      "Using TensorFlow backend.\n"
     ]
    }
   ],
   "source": [
    "import utils\n",
    "from utils import TrainingPlot, TimeSummary, plot_training_summary\n",
    "from NNKeras import NNKeras\n",
    "from sklearn.model_selection import train_test_split\n",
    "import inspect"
   ]
  },
  {
   "cell_type": "markdown",
   "metadata": {},
   "source": [
    "## Data Preparation\n",
    "\n",
    "### Data Cleanup\n",
    "-  Merge 64 size vectors by ignoring line breaks\n",
    "-  Create subset of data by selecting non consecutive vectors"
   ]
  },
  {
   "cell_type": "markdown",
   "metadata": {},
   "source": [
    "#### Cleaned data\n",
    "L42023,0.04347826,0.04347826,0.,0.04347826,0.01086957,0.02173913,0.,0.02173913,0.,0.,0.,0.,0.,0.02173913,0.02173913,0.04347826,0.07608696,0.02173913,0.,0.0326087,0.01086957,0.,0.,0.0326087,0.,0.01086957,0.,0.0326087,0.,0.,0.,0.0326087,0.05434783,0.,0.01086957,0.02173913,0.04347826,0.,0.01086957,0.02173913,0.02173913,0.,0.,0.01086957,0.0326087,0.,0.04347826,0.0326087,0.01086957,0.01086957,0.,0.02173913,0.04347826,0.01086957,0.,0.01086957,0.,0.,0.,0.,0.04347826,0.02173913,0.,0."
   ]
  },
  {
   "cell_type": "markdown",
   "metadata": {
    "collapsed": true,
    "pycharm": {
     "metadata": false,
     "name": "#%%\n"
    }
   },
   "source": [
    "## Network 1\n",
    "### Create input dataset X and y where X has all vectors and y is one-hot vector"
   ]
  },
  {
   "cell_type": "code",
   "execution_count": 2,
   "metadata": {},
   "outputs": [],
   "source": [
    "nn = NNKeras(\"/tf/dataset/dataset.csv\")\n",
    "X, y, unique_classes = nn.read_data()"
   ]
  },
  {
   "cell_type": "code",
   "execution_count": 3,
   "metadata": {
    "pycharm": {}
   },
   "outputs": [
    {
     "name": "stdout",
     "output_type": "stream",
     "text": [
      "(3131, 64)\n",
      "(3131, 31)\n",
      "         1         2         3         4         5         6         7   \\\n",
      "0  0.045455  0.045455  0.000000  0.000000  0.045455  0.318182  0.000000   \n",
      "1  0.080000  0.060000  0.000000  0.100000  0.000000  0.000000  0.020000   \n",
      "2  0.010482  0.020964  0.002096  0.012579  0.004193  0.031447  0.006289   \n",
      "\n",
      "         8    9         10  ...        55        56        57        58  \\\n",
      "0  0.000000  0.0  0.045455  ...  0.000000  0.000000  0.045455  0.000000   \n",
      "1  0.000000  0.0  0.000000  ...  0.000000  0.020000  0.020000  0.040000   \n",
      "2  0.006289  0.0  0.014675  ...  0.010482  0.006289  0.000000  0.010482   \n",
      "\n",
      "        59        60        61        62        63        64  \n",
      "0  0.00000  0.000000  0.000000  0.000000  0.000000  0.000000  \n",
      "1  0.00000  0.000000  0.020000  0.000000  0.000000  0.000000  \n",
      "2  0.02935  0.008386  0.010482  0.020964  0.012579  0.054507  \n",
      "\n",
      "[3 rows x 64 columns]\n",
      "[[ True False False False False False False False False False False False\n",
      "  False False False False False False False False False False False False\n",
      "  False False False False False False False]\n",
      " [ True False False False False False False False False False False False\n",
      "  False False False False False False False False False False False False\n",
      "  False False False False False False False]\n",
      " [ True False False False False False False False False False False False\n",
      "  False False False False False False False False False False False False\n",
      "  False False False False False False False]]\n"
     ]
    }
   ],
   "source": [
    "print(X.shape)\n",
    "print(y.shape)\n",
    "print(X[:3])\n",
    "print(y[:3])"
   ]
  },
  {
   "cell_type": "markdown",
   "metadata": {
    "pycharm": {}
   },
   "source": [
    "### Randomly select train, test datasets"
   ]
  },
  {
   "cell_type": "code",
   "execution_count": 4,
   "metadata": {},
   "outputs": [
    {
     "name": "stdout",
     "output_type": "stream",
     "text": [
      "            1         2         3         4         5         6         7   \\\n",
      "2113  0.000000  0.013333  0.005333  0.000000  0.000000  0.026667  0.013333   \n",
      "3029  0.075269  0.043011  0.043011  0.021505  0.000000  0.010753  0.000000   \n",
      "2130  0.056338  0.004695  0.000000  0.046948  0.014085  0.000000  0.004695   \n",
      "\n",
      "            8         9         10  ...        55        56        57     58  \\\n",
      "2113  0.000000  0.000000  0.008000  ...  0.018667  0.002667  0.002667  0.008   \n",
      "3029  0.000000  0.021505  0.000000  ...  0.010753  0.000000  0.000000  0.000   \n",
      "2130  0.023474  0.009390  0.004695  ...  0.004695  0.014085  0.000000  0.000   \n",
      "\n",
      "            59       60        61        62        63        64  \n",
      "2113  0.016000  0.00000  0.000000  0.029333  0.002667  0.000000  \n",
      "3029  0.010753  0.00000  0.021505  0.010753  0.010753  0.010753  \n",
      "2130  0.009390  0.00939  0.042254  0.004695  0.037559  0.028169  \n",
      "\n",
      "[3 rows x 64 columns]\n",
      "[[False False False False False False False False False False False False\n",
      "  False False False False False False False False  True False False False\n",
      "  False False False False False False False]\n",
      " [False False False False False False False False False False False False\n",
      "  False False False False False False False False False False False False\n",
      "  False False False False False  True False]\n",
      " [False False False False False False False False False False False False\n",
      "  False False False False False False False False False  True False False\n",
      "  False False False False False False False]]\n"
     ]
    }
   ],
   "source": [
    "X_train, X_test, y_train, y_test = train_test_split(X, y, test_size=0.2, random_state=5)\n",
    "print(X_train[:3])\n",
    "print(y_train[:3])"
   ]
  },
  {
   "cell_type": "code",
   "execution_count": 5,
   "metadata": {
    "pycharm": {}
   },
   "outputs": [
    {
     "data": {
      "text/plain": [
       "(['    def train(self, X, y, node_range):\\n',\n",
       "  '        X_train, X_test, y_train, y_test = train_test_split(X, y, test_size=0.01, random_state=5)\\n',\n",
       "  '        for num_nodes in node_range:\\n',\n",
       "  '            nodes = [64, num_nodes]\\n',\n",
       "  '            model = self.base_model(nodes)\\n',\n",
       "  '            summary = model.fit(X_train, y_train, epochs=100, verbose=0)\\n',\n",
       "  '            score = model.evaluate(X_test, y_test)\\n',\n",
       "  '            model.summary()\\n',\n",
       "  \"            print('Test loss:', score[0])\\n\",\n",
       "  \"            print('Test accuracy:', score[1])\\n\"],\n",
       " 53)"
      ]
     },
     "execution_count": 5,
     "metadata": {},
     "output_type": "execute_result"
    }
   ],
   "source": [
    "inspect.getsourcelines(nn.train)"
   ]
  },
  {
   "cell_type": "code",
   "execution_count": null,
   "metadata": {},
   "outputs": [
    {
     "name": "stdout",
     "output_type": "stream",
     "text": [
      "WARNING:tensorflow:From /usr/local/lib/python3.5/dist-packages/tensorflow/python/framework/op_def_library.py:263: colocate_with (from tensorflow.python.framework.ops) is deprecated and will be removed in a future version.\n",
      "Instructions for updating:\n",
      "Colocations handled automatically by placer.\n",
      "WARNING:tensorflow:From /usr/local/lib/python3.5/dist-packages/tensorflow/python/ops/math_ops.py:3066: to_int32 (from tensorflow.python.ops.math_ops) is deprecated and will be removed in a future version.\n",
      "Instructions for updating:\n",
      "Use tf.cast instead.\n",
      "32/32 [==============================] - 0s 1ms/step\n",
      "_________________________________________________________________\n",
      "Layer (type)                 Output Shape              Param #   \n",
      "=================================================================\n",
      "dense_1 (Dense)              (None, 1)                 65        \n",
      "_________________________________________________________________\n",
      "dense_2 (Dense)              (None, 31)                62        \n",
      "=================================================================\n",
      "Total params: 127\n",
      "Trainable params: 127\n",
      "Non-trainable params: 0\n",
      "_________________________________________________________________\n",
      "Test loss: 0.14290037751197815\n",
      "Test accuracy: 0.9677419066429138\n"
     ]
    }
   ],
   "source": [
    "nn.train(X, y, range(1, 2))"
   ]
  },
  {
   "cell_type": "markdown",
   "metadata": {},
   "source": [
    "## Network 2\n",
    "### Use the training method for nodes 5 - 32"
   ]
  },
  {
   "cell_type": "code",
   "execution_count": null,
   "metadata": {},
   "outputs": [
    {
     "name": "stdout",
     "output_type": "stream",
     "text": [
      "32/32 [==============================] - 0s 2ms/step\n",
      "_________________________________________________________________\n",
      "Layer (type)                 Output Shape              Param #   \n",
      "=================================================================\n",
      "dense_3 (Dense)              (None, 5)                 325       \n",
      "_________________________________________________________________\n",
      "dense_4 (Dense)              (None, 31)                186       \n",
      "=================================================================\n",
      "Total params: 511\n",
      "Trainable params: 511\n",
      "Non-trainable params: 0\n",
      "_________________________________________________________________\n",
      "Test loss: 0.10837498307228088\n",
      "Test accuracy: 0.9677419066429138\n",
      "32/32 [==============================] - 0s 2ms/step\n",
      "_________________________________________________________________\n",
      "Layer (type)                 Output Shape              Param #   \n",
      "=================================================================\n",
      "dense_5 (Dense)              (None, 6)                 390       \n",
      "_________________________________________________________________\n",
      "dense_6 (Dense)              (None, 31)                217       \n",
      "=================================================================\n",
      "Total params: 607\n",
      "Trainable params: 607\n",
      "Non-trainable params: 0\n",
      "_________________________________________________________________\n",
      "Test loss: 0.11341340094804764\n",
      "Test accuracy: 0.9677419066429138\n",
      "32/32 [==============================] - 0s 3ms/step\n",
      "_________________________________________________________________\n",
      "Layer (type)                 Output Shape              Param #   \n",
      "=================================================================\n",
      "dense_7 (Dense)              (None, 7)                 455       \n",
      "_________________________________________________________________\n",
      "dense_8 (Dense)              (None, 31)                248       \n",
      "=================================================================\n",
      "Total params: 703\n",
      "Trainable params: 703\n",
      "Non-trainable params: 0\n",
      "_________________________________________________________________\n",
      "Test loss: 0.1053432822227478\n",
      "Test accuracy: 0.9677419066429138\n",
      "32/32 [==============================] - 0s 6ms/step\n",
      "_________________________________________________________________\n",
      "Layer (type)                 Output Shape              Param #   \n",
      "=================================================================\n",
      "dense_9 (Dense)              (None, 8)                 520       \n",
      "_________________________________________________________________\n",
      "dense_10 (Dense)             (None, 31)                279       \n",
      "=================================================================\n",
      "Total params: 799\n",
      "Trainable params: 799\n",
      "Non-trainable params: 0\n",
      "_________________________________________________________________\n",
      "Test loss: 0.10331717133522034\n",
      "Test accuracy: 0.9677419066429138\n",
      "32/32 [==============================] - 0s 8ms/step\n",
      "_________________________________________________________________\n",
      "Layer (type)                 Output Shape              Param #   \n",
      "=================================================================\n",
      "dense_11 (Dense)             (None, 9)                 585       \n",
      "_________________________________________________________________\n",
      "dense_12 (Dense)             (None, 31)                310       \n",
      "=================================================================\n",
      "Total params: 895\n",
      "Trainable params: 895\n",
      "Non-trainable params: 0\n",
      "_________________________________________________________________\n",
      "Test loss: 0.10022369772195816\n",
      "Test accuracy: 0.96875\n",
      "32/32 [==============================] - 0s 5ms/step\n",
      "_________________________________________________________________\n",
      "Layer (type)                 Output Shape              Param #   \n",
      "=================================================================\n",
      "dense_13 (Dense)             (None, 10)                650       \n",
      "_________________________________________________________________\n",
      "dense_14 (Dense)             (None, 31)                341       \n",
      "=================================================================\n",
      "Total params: 991\n",
      "Trainable params: 991\n",
      "Non-trainable params: 0\n",
      "_________________________________________________________________\n",
      "Test loss: 0.0971500501036644\n",
      "Test accuracy: 0.96875\n",
      "32/32 [==============================] - 0s 11ms/step\n",
      "_________________________________________________________________\n",
      "Layer (type)                 Output Shape              Param #   \n",
      "=================================================================\n",
      "dense_15 (Dense)             (None, 11)                715       \n",
      "_________________________________________________________________\n",
      "dense_16 (Dense)             (None, 31)                372       \n",
      "=================================================================\n",
      "Total params: 1,087\n",
      "Trainable params: 1,087\n",
      "Non-trainable params: 0\n",
      "_________________________________________________________________\n",
      "Test loss: 0.09428966045379639\n",
      "Test accuracy: 0.96875\n",
      "32/32 [==============================] - 0s 12ms/step\n",
      "_________________________________________________________________\n",
      "Layer (type)                 Output Shape              Param #   \n",
      "=================================================================\n",
      "dense_17 (Dense)             (None, 12)                780       \n",
      "_________________________________________________________________\n",
      "dense_18 (Dense)             (None, 31)                403       \n",
      "=================================================================\n",
      "Total params: 1,183\n",
      "Trainable params: 1,183\n",
      "Non-trainable params: 0\n",
      "_________________________________________________________________\n",
      "Test loss: 0.09692276269197464\n",
      "Test accuracy: 0.9677419066429138\n",
      "32/32 [==============================] - 0s 14ms/step\n",
      "_________________________________________________________________\n",
      "Layer (type)                 Output Shape              Param #   \n",
      "=================================================================\n",
      "dense_19 (Dense)             (None, 13)                845       \n",
      "_________________________________________________________________\n",
      "dense_20 (Dense)             (None, 31)                434       \n",
      "=================================================================\n",
      "Total params: 1,279\n",
      "Trainable params: 1,279\n",
      "Non-trainable params: 0\n",
      "_________________________________________________________________\n",
      "Test loss: 0.09193365275859833\n",
      "Test accuracy: 0.9707661271095276\n",
      "32/32 [==============================] - 0s 13ms/step\n",
      "_________________________________________________________________\n",
      "Layer (type)                 Output Shape              Param #   \n",
      "=================================================================\n",
      "dense_21 (Dense)             (None, 14)                910       \n",
      "_________________________________________________________________\n",
      "dense_22 (Dense)             (None, 31)                465       \n",
      "=================================================================\n",
      "Total params: 1,375\n",
      "Trainable params: 1,375\n",
      "Non-trainable params: 0\n",
      "_________________________________________________________________\n",
      "Test loss: 0.09084008634090424\n",
      "Test accuracy: 0.96875\n",
      "32/32 [==============================] - 0s 15ms/step\n",
      "_________________________________________________________________\n",
      "Layer (type)                 Output Shape              Param #   \n",
      "=================================================================\n",
      "dense_23 (Dense)             (None, 15)                975       \n",
      "_________________________________________________________________\n",
      "dense_24 (Dense)             (None, 31)                496       \n",
      "=================================================================\n",
      "Total params: 1,471\n",
      "Trainable params: 1,471\n",
      "Non-trainable params: 0\n",
      "_________________________________________________________________\n",
      "Test loss: 0.08939316868782043\n",
      "Test accuracy: 0.9697580337524414\n",
      "32/32 [==============================] - 0s 9ms/step\n",
      "_________________________________________________________________\n",
      "Layer (type)                 Output Shape              Param #   \n",
      "=================================================================\n",
      "dense_25 (Dense)             (None, 16)                1040      \n",
      "_________________________________________________________________\n",
      "dense_26 (Dense)             (None, 31)                527       \n",
      "=================================================================\n",
      "Total params: 1,567\n",
      "Trainable params: 1,567\n",
      "Non-trainable params: 0\n",
      "_________________________________________________________________\n",
      "Test loss: 0.08640541136264801\n",
      "Test accuracy: 0.96875\n"
     ]
    },
    {
     "name": "stdout",
     "output_type": "stream",
     "text": [
      "32/32 [==============================] - 0s 11ms/step\n",
      "_________________________________________________________________\n",
      "Layer (type)                 Output Shape              Param #   \n",
      "=================================================================\n",
      "dense_27 (Dense)             (None, 17)                1105      \n",
      "_________________________________________________________________\n",
      "dense_28 (Dense)             (None, 31)                558       \n",
      "=================================================================\n",
      "Total params: 1,663\n",
      "Trainable params: 1,663\n",
      "Non-trainable params: 0\n",
      "_________________________________________________________________\n",
      "Test loss: 0.08219931274652481\n",
      "Test accuracy: 0.9717742204666138\n",
      "32/32 [==============================] - 0s 10ms/step\n",
      "_________________________________________________________________\n",
      "Layer (type)                 Output Shape              Param #   \n",
      "=================================================================\n",
      "dense_29 (Dense)             (None, 18)                1170      \n",
      "_________________________________________________________________\n",
      "dense_30 (Dense)             (None, 31)                589       \n",
      "=================================================================\n",
      "Total params: 1,759\n",
      "Trainable params: 1,759\n",
      "Non-trainable params: 0\n",
      "_________________________________________________________________\n",
      "Test loss: 0.08091218769550323\n",
      "Test accuracy: 0.9727822542190552\n",
      "32/32 [==============================] - 1s 19ms/step\n",
      "_________________________________________________________________\n",
      "Layer (type)                 Output Shape              Param #   \n",
      "=================================================================\n",
      "dense_31 (Dense)             (None, 19)                1235      \n",
      "_________________________________________________________________\n",
      "dense_32 (Dense)             (None, 31)                620       \n",
      "=================================================================\n",
      "Total params: 1,855\n",
      "Trainable params: 1,855\n",
      "Non-trainable params: 0\n",
      "_________________________________________________________________\n",
      "Test loss: 0.08363661170005798\n",
      "Test accuracy: 0.9697580337524414\n",
      "32/32 [==============================] - 1s 23ms/step\n",
      "_________________________________________________________________\n",
      "Layer (type)                 Output Shape              Param #   \n",
      "=================================================================\n",
      "dense_33 (Dense)             (None, 20)                1300      \n",
      "_________________________________________________________________\n",
      "dense_34 (Dense)             (None, 31)                651       \n",
      "=================================================================\n",
      "Total params: 1,951\n",
      "Trainable params: 1,951\n",
      "Non-trainable params: 0\n",
      "_________________________________________________________________\n",
      "Test loss: 0.07869933545589447\n",
      "Test accuracy: 0.9717742204666138\n",
      "32/32 [==============================] - 1s 29ms/step\n",
      "_________________________________________________________________\n",
      "Layer (type)                 Output Shape              Param #   \n",
      "=================================================================\n",
      "dense_35 (Dense)             (None, 21)                1365      \n",
      "_________________________________________________________________\n",
      "dense_36 (Dense)             (None, 31)                682       \n",
      "=================================================================\n",
      "Total params: 2,047\n",
      "Trainable params: 2,047\n",
      "Non-trainable params: 0\n",
      "_________________________________________________________________\n",
      "Test loss: 0.08137466758489609\n",
      "Test accuracy: 0.9697580337524414\n",
      "32/32 [==============================] - 1s 24ms/step\n",
      "_________________________________________________________________\n",
      "Layer (type)                 Output Shape              Param #   \n",
      "=================================================================\n",
      "dense_37 (Dense)             (None, 22)                1430      \n",
      "_________________________________________________________________\n",
      "dense_38 (Dense)             (None, 31)                713       \n",
      "=================================================================\n",
      "Total params: 2,143\n",
      "Trainable params: 2,143\n",
      "Non-trainable params: 0\n",
      "_________________________________________________________________\n",
      "Test loss: 0.07976145297288895\n",
      "Test accuracy: 0.9717742204666138\n",
      "32/32 [==============================] - 1s 18ms/step\n",
      "_________________________________________________________________\n",
      "Layer (type)                 Output Shape              Param #   \n",
      "=================================================================\n",
      "dense_39 (Dense)             (None, 23)                1495      \n",
      "_________________________________________________________________\n",
      "dense_40 (Dense)             (None, 31)                744       \n",
      "=================================================================\n",
      "Total params: 2,239\n",
      "Trainable params: 2,239\n",
      "Non-trainable params: 0\n",
      "_________________________________________________________________\n",
      "Test loss: 0.07914680242538452\n",
      "Test accuracy: 0.9747984409332275\n",
      "32/32 [==============================] - 1s 26ms/step\n",
      "_________________________________________________________________\n",
      "Layer (type)                 Output Shape              Param #   \n",
      "=================================================================\n",
      "dense_41 (Dense)             (None, 24)                1560      \n",
      "_________________________________________________________________\n",
      "dense_42 (Dense)             (None, 31)                775       \n",
      "=================================================================\n",
      "Total params: 2,335\n",
      "Trainable params: 2,335\n",
      "Non-trainable params: 0\n",
      "_________________________________________________________________\n",
      "Test loss: 0.06869316101074219\n",
      "Test accuracy: 0.9768145084381104\n",
      "32/32 [==============================] - 1s 33ms/step\n",
      "_________________________________________________________________\n",
      "Layer (type)                 Output Shape              Param #   \n",
      "=================================================================\n",
      "dense_43 (Dense)             (None, 25)                1625      \n",
      "_________________________________________________________________\n",
      "dense_44 (Dense)             (None, 31)                806       \n",
      "=================================================================\n",
      "Total params: 2,431\n",
      "Trainable params: 2,431\n",
      "Non-trainable params: 0\n",
      "_________________________________________________________________\n",
      "Test loss: 0.07915643602609634\n",
      "Test accuracy: 0.9737902879714966\n",
      "32/32 [==============================] - 1s 29ms/step\n",
      "_________________________________________________________________\n",
      "Layer (type)                 Output Shape              Param #   \n",
      "=================================================================\n",
      "dense_45 (Dense)             (None, 26)                1690      \n",
      "_________________________________________________________________\n",
      "dense_46 (Dense)             (None, 31)                837       \n",
      "=================================================================\n",
      "Total params: 2,527\n",
      "Trainable params: 2,527\n",
      "Non-trainable params: 0\n",
      "_________________________________________________________________\n",
      "Test loss: 0.07351306080818176\n",
      "Test accuracy: 0.975806474685669\n",
      "32/32 [==============================] - 1s 24ms/step\n",
      "_________________________________________________________________\n",
      "Layer (type)                 Output Shape              Param #   \n",
      "=================================================================\n",
      "dense_47 (Dense)             (None, 27)                1755      \n",
      "_________________________________________________________________\n",
      "dense_48 (Dense)             (None, 31)                868       \n",
      "=================================================================\n",
      "Total params: 2,623\n",
      "Trainable params: 2,623\n",
      "Non-trainable params: 0\n",
      "_________________________________________________________________\n",
      "Test loss: 0.07085983455181122\n",
      "Test accuracy: 0.9768145084381104\n",
      "32/32 [==============================] - 1s 31ms/step\n",
      "_________________________________________________________________\n",
      "Layer (type)                 Output Shape              Param #   \n",
      "=================================================================\n",
      "dense_49 (Dense)             (None, 28)                1820      \n",
      "_________________________________________________________________\n",
      "dense_50 (Dense)             (None, 31)                899       \n",
      "=================================================================\n",
      "Total params: 2,719\n",
      "Trainable params: 2,719\n",
      "Non-trainable params: 0\n",
      "_________________________________________________________________\n",
      "Test loss: 0.0713743194937706\n",
      "Test accuracy: 0.9737903475761414\n"
     ]
    },
    {
     "name": "stdout",
     "output_type": "stream",
     "text": [
      "32/32 [==============================] - 1s 23ms/step\n",
      "_________________________________________________________________\n",
      "Layer (type)                 Output Shape              Param #   \n",
      "=================================================================\n",
      "dense_51 (Dense)             (None, 29)                1885      \n",
      "_________________________________________________________________\n",
      "dense_52 (Dense)             (None, 31)                930       \n",
      "=================================================================\n",
      "Total params: 2,815\n",
      "Trainable params: 2,815\n",
      "Non-trainable params: 0\n",
      "_________________________________________________________________\n",
      "Test loss: 0.07053647190332413\n",
      "Test accuracy: 0.9768145084381104\n",
      "32/32 [==============================] - 2s 60ms/step\n",
      "_________________________________________________________________\n",
      "Layer (type)                 Output Shape              Param #   \n",
      "=================================================================\n",
      "dense_53 (Dense)             (None, 30)                1950      \n",
      "_________________________________________________________________\n",
      "dense_54 (Dense)             (None, 31)                961       \n",
      "=================================================================\n",
      "Total params: 2,911\n",
      "Trainable params: 2,911\n",
      "Non-trainable params: 0\n",
      "_________________________________________________________________\n",
      "Test loss: 0.07078585028648376\n",
      "Test accuracy: 0.9768145084381104\n",
      "32/32 [==============================] - 1s 32ms/step\n",
      "_________________________________________________________________\n",
      "Layer (type)                 Output Shape              Param #   \n",
      "=================================================================\n",
      "dense_55 (Dense)             (None, 31)                2015      \n",
      "_________________________________________________________________\n",
      "dense_56 (Dense)             (None, 31)                992       \n",
      "=================================================================\n",
      "Total params: 3,007\n",
      "Trainable params: 3,007\n",
      "Non-trainable params: 0\n",
      "_________________________________________________________________\n",
      "Test loss: 0.07358307391405106\n",
      "Test accuracy: 0.9768145084381104\n"
     ]
    }
   ],
   "source": [
    "nn.train(X, y, range(5, 32))"
   ]
  },
  {
   "cell_type": "markdown",
   "metadata": {},
   "source": [
    "### Network 2 reaches accuracy of 96% with just 2 nodes. We will take P=6"
   ]
  },
  {
   "cell_type": "markdown",
   "metadata": {},
   "source": [
    "## Network 3\n",
    "### Optimal number of hidden layers with P/2 neurons"
   ]
  },
  {
   "cell_type": "code",
   "execution_count": null,
   "metadata": {},
   "outputs": [
    {
     "data": {
      "text/plain": [
       "(['    def train_network_3(self, X, y):\\n',\n",
       "  '        X_train, X_test, y_train, y_test = train_test_split(X, y, test_size=0.05, random_state=5)\\n',\n",
       "  '        P = 6\\n',\n",
       "  '        for num_layers in range(1, 10):\\n',\n",
       "  '            nodes = [64] + [int(P / 2)] * num_layers\\n',\n",
       "  '            model = self.base_model(nodes)\\n',\n",
       "  '            summary = model.fit(X_train, y_train, epochs=100, verbose=0)\\n',\n",
       "  '            score = model.evaluate(X_test, y_test)\\n',\n",
       "  \"            print('Test loss:', score[0])\\n\",\n",
       "  \"            print('Test accuracy:', score[1])\\n\"],\n",
       " 82)"
      ]
     },
     "execution_count": 8,
     "metadata": {},
     "output_type": "execute_result"
    }
   ],
   "source": [
    "inspect.getsourcelines(nn.train_network_3)"
   ]
  },
  {
   "cell_type": "code",
   "execution_count": null,
   "metadata": {
    "scrolled": true
   },
   "outputs": [
    {
     "name": "stdout",
     "output_type": "stream",
     "text": [
      "157/157 [==============================] - 1s 5ms/step\n",
      "Test loss: 0.11598467712949036\n",
      "Test accuracy: 0.9677418956331386\n",
      "157/157 [==============================] - 1s 5ms/step\n",
      "Test loss: 0.12188119313139824\n",
      "Test accuracy: 0.9677418956331386\n"
     ]
    }
   ],
   "source": [
    "nn.train_network_3(X, y)"
   ]
  },
  {
   "cell_type": "markdown",
   "metadata": {},
   "source": [
    "### We are getting accuracy with only 2 layers. We will take hidden layers = 2"
   ]
  },
  {
   "cell_type": "markdown",
   "metadata": {},
   "source": [
    "## Network 4"
   ]
  },
  {
   "cell_type": "code",
   "execution_count": null,
   "metadata": {},
   "outputs": [],
   "source": [
    "inspect.getsourcelines(nn.train_network_4)"
   ]
  },
  {
   "cell_type": "code",
   "execution_count": null,
   "metadata": {},
   "outputs": [],
   "source": [
    "nn.train_network_4(X, y)"
   ]
  },
  {
   "cell_type": "code",
   "execution_count": null,
   "metadata": {},
   "outputs": [],
   "source": [
    "## Network 5\n",
    "### We will use same training function with each column of y as 1D matrix\n",
    "### Take average of each inidividual prediction"
   ]
  },
  {
   "cell_type": "code",
   "execution_count": null,
   "metadata": {},
   "outputs": [],
   "source": [
    "inspect.getsourcelines(nn.train_network_4)"
   ]
  },
  {
   "cell_type": "code",
   "execution_count": null,
   "metadata": {},
   "outputs": [],
   "source": [
    "avg_score = nn.single_output_score(X, y)\n",
    "avg_score"
   ]
  },
  {
   "cell_type": "code",
   "execution_count": null,
   "metadata": {},
   "outputs": [],
   "source": [
    "# Validation\n",
    "### In this dataset, our neural network reaches accuracy of 96% with sample data and 98% with full dataset. Hence it is necessary to validate the accuracy of data with trained model.\n",
    "### Keras allows callbacks for training visualization. Function below runs for 200 epochs with 32 neurons and saves the model"
   ]
  },
  {
   "cell_type": "code",
   "execution_count": null,
   "metadata": {},
   "outputs": [],
   "source": [
    "nspect.getsourcelines(nn.train_with_callback)"
   ]
  },
  {
   "cell_type": "code",
   "execution_count": null,
   "metadata": {},
   "outputs": [],
   "source": [
    "nn.train_with_callback(X, y, '/tf/models/model.h5')"
   ]
  },
  {
   "cell_type": "markdown",
   "metadata": {},
   "source": [
    "### Predict from souce data"
   ]
  },
  {
   "cell_type": "code",
   "execution_count": null,
   "metadata": {},
   "outputs": [],
   "source": [
    "inspect.getsourcelines(nn.predict)"
   ]
  },
  {
   "cell_type": "code",
   "execution_count": null,
   "metadata": {},
   "outputs": [],
   "source": [
    "nn.predict(\"/tf/dataset/ae002161.csv\", unique_classes, 5, \"/tf/models/model.h5\")"
   ]
  },
  {
   "cell_type": "code",
   "execution_count": null,
   "metadata": {},
   "outputs": [],
   "source": [
    "nn.predict(\"/tf/dataset/ae003852.csv\", unique_classes, 5, \"/tf/models/model.h5\")"
   ]
  },
  {
   "cell_type": "code",
   "execution_count": null,
   "metadata": {},
   "outputs": [],
   "source": [
    "unique_classes"
   ]
  },
  {
   "cell_type": "markdown",
   "metadata": {},
   "source": [
    "---"
   ]
  },
  {
   "cell_type": "code",
   "execution_count": null,
   "metadata": {
    "pycharm": {}
   },
   "outputs": [],
   "source": [
    "from sklearn.tree import DecisionTreeClassifier\n",
    "from sklearn.metrics import accuracy_score\n",
    "\n",
    "\n",
    "X_train, X_test, y_train, y_test = train_test_split(X, y, test_size=0.2, random_state=5)\n",
    "print(X.shape)\n",
    "print(y.shape)\n",
    "\n",
    "tmp = DecisionTreeClassifier(min_samples_leaf=10)\n",
    "tmp.fit(X_train, y_train)\n",
    "y_pred = tmp.predict(X_test)\n",
    "print('test', accuracy_score(y_pred, y_test))\n",
    "y_pred_train = tmp.predict(X_train)\n",
    "print('train', accuracy_score(y_pred_train, y_train))"
   ]
  },
  {
   "cell_type": "code",
   "execution_count": null,
   "metadata": {},
   "outputs": [],
   "source": [
    "from sklearn.decomposition import PCA\n",
    "\n",
    "pca = PCA(n_components=2)\n",
    "pca.fit(X_train)\n",
    "# print(pca.components_)\n",
    "X_proj = pca.transform(X_test)\n",
    "\n",
    "f, ax = plt.subplots(2, sharex=True)\n",
    "f.set_figheight(10)\n",
    "ax[0].scatter(X_proj[:, 0], X_proj[:, 1], c=np.argmax(y_test, axis=1), alpha=0.9)\n",
    "ax[1].scatter(X_proj[:, 0], X_proj[:, 1], c=np.argmax(y_pred, axis=1), alpha=0.9)"
   ]
  }
 ],
 "metadata": {
  "kernelspec": {
   "display_name": "Python 3",
   "language": "python",
   "name": "python3"
  },
  "language_info": {
   "codemirror_mode": {
    "name": "ipython",
    "version": 3
   },
   "file_extension": ".py",
   "mimetype": "text/x-python",
   "name": "python",
   "nbconvert_exporter": "python",
   "pygments_lexer": "ipython3",
   "version": "3.5.2"
  }
 },
 "nbformat": 4,
 "nbformat_minor": 2
}
