{
 "cells": [
  {
   "cell_type": "markdown",
   "metadata": {
    "pycharm": {
     "is_executing": false,
     "metadata": false,
     "name": "#%% md\n"
    }
   },
   "source": [
    "# Neural Network"
   ]
  },
  {
   "cell_type": "code",
   "execution_count": null,
   "metadata": {
    "pycharm": {}
   },
   "outputs": [],
   "source": [
    "import sys\n",
    "!{sys.executable} -m pip install numpy\n",
    "!{sys.executable} -m pip install pandas\n",
    "!{sys.executable} -m pip install sklearn\n",
    "!{sys.executable} -m pip install keras\n",
    "!{sys.executable} -m pip install matplotlib"
   ]
  },
  {
   "cell_type": "code",
   "execution_count": 1,
   "metadata": {
    "pycharm": {
     "is_executing": false,
     "metadata": false,
     "name": "#%%\n"
    }
   },
   "outputs": [
    {
     "name": "stderr",
     "output_type": "stream",
     "text": [
      "Using TensorFlow backend.\n"
     ]
    }
   ],
   "source": [
    "import utils\n",
    "from utils import TrainingPlot, TimeSummary, plot_training_summary\n",
    "from NNKeras import NNKeras\n",
    "from sklearn.model_selection import train_test_split\n",
    "import inspect\n",
    "import warnings\n",
    "warnings.filterwarnings('ignore')"
   ]
  },
  {
   "cell_type": "markdown",
   "metadata": {
    "pycharm": {}
   },
   "source": [
    "## Step 1\n",
    "### Data Preparation\n",
    "\n",
    "#### Data Cleanup\n",
    "-  Merge 64 size vectors by ignoring line breaks\n",
    "-  Create subset of data by selecting non consecutive vectors"
   ]
  },
  {
   "cell_type": "markdown",
   "metadata": {
    "pycharm": {}
   },
   "source": [
    "#### Cleaned data\n",
    "L42023,0.04347826,0.04347826,0.,0.04347826,0.01086957,0.02173913,0.,0.02173913,0.,0.,0.,0.,0.,0.02173913,0.02173913,0.04347826,0.07608696,0.02173913,0.,0.0326087,0.01086957,0.,0.,0.0326087,0.,0.01086957,0.,0.0326087,0.,0.,0.,0.0326087,0.05434783,0.,0.01086957,0.02173913,0.04347826,0.,0.01086957,0.02173913,0.02173913,0.,0.,0.01086957,0.0326087,0.,0.04347826,0.0326087,0.01086957,0.01086957,0.,0.02173913,0.04347826,0.01086957,0.,0.01086957,0.,0.,0.,0.,0.04347826,0.02173913,0.,0."
   ]
  },
  {
   "cell_type": "markdown",
   "metadata": {
    "collapsed": true,
    "pycharm": {
     "metadata": false,
     "name": "#%%\n"
    }
   },
   "source": [
    "## Network 1\n",
    "### Create input dataset X and y where X has all vectors and y is one-hot vector"
   ]
  },
  {
   "cell_type": "code",
   "execution_count": 2,
   "metadata": {
    "pycharm": {
     "is_executing": false
    }
   },
   "outputs": [],
   "source": [
    "nn = NNKeras(\"/tf/dataset/dataset1.csv\")\n",
    "X, y, unique_classes = nn.read_data()"
   ]
  },
  {
   "cell_type": "code",
   "execution_count": 3,
   "metadata": {
    "pycharm": {
     "is_executing": false
    }
   },
   "outputs": [
    {
     "name": "stdout",
     "output_type": "stream",
     "text": [
      "Input Vector Shape\n",
      "(3131, 64)\n",
      "Initialized Training Vector Shape\n",
      "(3131, 31)\n",
      "Input Vector Head\n",
      "         1         2         3         4         5         6         7   \\\n",
      "0  0.045455  0.045455  0.000000  0.000000  0.045455  0.318182  0.000000   \n",
      "1  0.080000  0.060000  0.000000  0.100000  0.000000  0.000000  0.020000   \n",
      "2  0.010482  0.020964  0.002096  0.012579  0.004193  0.031447  0.006289   \n",
      "\n",
      "         8    9         10  ...        55        56        57        58  \\\n",
      "0  0.000000  0.0  0.045455  ...  0.000000  0.000000  0.045455  0.000000   \n",
      "1  0.000000  0.0  0.000000  ...  0.000000  0.020000  0.020000  0.040000   \n",
      "2  0.006289  0.0  0.014675  ...  0.010482  0.006289  0.000000  0.010482   \n",
      "\n",
      "        59        60        61        62        63        64  \n",
      "0  0.00000  0.000000  0.000000  0.000000  0.000000  0.000000  \n",
      "1  0.00000  0.000000  0.020000  0.000000  0.000000  0.000000  \n",
      "2  0.02935  0.008386  0.010482  0.020964  0.012579  0.054507  \n",
      "\n",
      "[3 rows x 64 columns]\n",
      "Training Vector Head\n",
      "[[ True False False False False False False False False False False False\n",
      "  False False False False False False False False False False False False\n",
      "  False False False False False False False]\n",
      " [ True False False False False False False False False False False False\n",
      "  False False False False False False False False False False False False\n",
      "  False False False False False False False]\n",
      " [ True False False False False False False False False False False False\n",
      "  False False False False False False False False False False False False\n",
      "  False False False False False False False]]\n",
      "Categories\n"
     ]
    },
    {
     "data": {
      "text/html": [
       "<div>\n",
       "<style scoped>\n",
       "    .dataframe tbody tr th:only-of-type {\n",
       "        vertical-align: middle;\n",
       "    }\n",
       "\n",
       "    .dataframe tbody tr th {\n",
       "        vertical-align: top;\n",
       "    }\n",
       "\n",
       "    .dataframe thead th {\n",
       "        text-align: right;\n",
       "    }\n",
       "</style>\n",
       "<table border=\"1\" class=\"dataframe\">\n",
       "  <thead>\n",
       "    <tr style=\"text-align: right;\">\n",
       "      <th></th>\n",
       "      <th>0</th>\n",
       "      <th>indices</th>\n",
       "    </tr>\n",
       "  </thead>\n",
       "  <tbody>\n",
       "    <tr>\n",
       "      <th>0</th>\n",
       "      <td>AE014075</td>\n",
       "      <td>1</td>\n",
       "    </tr>\n",
       "    <tr>\n",
       "      <th>1</th>\n",
       "      <td>AE006470</td>\n",
       "      <td>2</td>\n",
       "    </tr>\n",
       "    <tr>\n",
       "      <th>2</th>\n",
       "      <td>AE002161</td>\n",
       "      <td>3</td>\n",
       "    </tr>\n",
       "    <tr>\n",
       "      <th>3</th>\n",
       "      <td>AE000512</td>\n",
       "      <td>4</td>\n",
       "    </tr>\n",
       "    <tr>\n",
       "      <th>4</th>\n",
       "      <td>AE009442</td>\n",
       "      <td>5</td>\n",
       "    </tr>\n",
       "    <tr>\n",
       "      <th>5</th>\n",
       "      <td>AE002098</td>\n",
       "      <td>6</td>\n",
       "    </tr>\n",
       "    <tr>\n",
       "      <th>6</th>\n",
       "      <td>AE000666</td>\n",
       "      <td>7</td>\n",
       "    </tr>\n",
       "    <tr>\n",
       "      <th>7</th>\n",
       "      <td>BA000002</td>\n",
       "      <td>8</td>\n",
       "    </tr>\n",
       "    <tr>\n",
       "      <th>8</th>\n",
       "      <td>AL450380</td>\n",
       "      <td>9</td>\n",
       "    </tr>\n",
       "    <tr>\n",
       "      <th>9</th>\n",
       "      <td>AE000516</td>\n",
       "      <td>10</td>\n",
       "    </tr>\n",
       "    <tr>\n",
       "      <th>10</th>\n",
       "      <td>BA000004</td>\n",
       "      <td>11</td>\n",
       "    </tr>\n",
       "    <tr>\n",
       "      <th>11</th>\n",
       "      <td>AE001437</td>\n",
       "      <td>12</td>\n",
       "    </tr>\n",
       "    <tr>\n",
       "      <th>12</th>\n",
       "      <td>AL139299</td>\n",
       "      <td>13</td>\n",
       "    </tr>\n",
       "    <tr>\n",
       "      <th>13</th>\n",
       "      <td>L77117</td>\n",
       "      <td>14</td>\n",
       "    </tr>\n",
       "    <tr>\n",
       "      <th>14</th>\n",
       "      <td>AB001339</td>\n",
       "      <td>15</td>\n",
       "    </tr>\n",
       "    <tr>\n",
       "      <th>15</th>\n",
       "      <td>AE015924</td>\n",
       "      <td>16</td>\n",
       "    </tr>\n",
       "    <tr>\n",
       "      <th>16</th>\n",
       "      <td>AE000520</td>\n",
       "      <td>17</td>\n",
       "    </tr>\n",
       "    <tr>\n",
       "      <th>17</th>\n",
       "      <td>AE005672</td>\n",
       "      <td>18</td>\n",
       "    </tr>\n",
       "    <tr>\n",
       "      <th>18</th>\n",
       "      <td>NC_00918</td>\n",
       "      <td>19</td>\n",
       "    </tr>\n",
       "    <tr>\n",
       "      <th>19</th>\n",
       "      <td>CP000025</td>\n",
       "      <td>20</td>\n",
       "    </tr>\n",
       "    <tr>\n",
       "      <th>20</th>\n",
       "      <td>AL645882</td>\n",
       "      <td>21</td>\n",
       "    </tr>\n",
       "    <tr>\n",
       "      <th>21</th>\n",
       "      <td>L42023</td>\n",
       "      <td>22</td>\n",
       "    </tr>\n",
       "    <tr>\n",
       "      <th>22</th>\n",
       "      <td>AE004092</td>\n",
       "      <td>23</td>\n",
       "    </tr>\n",
       "    <tr>\n",
       "      <th>23</th>\n",
       "      <td>CP000241</td>\n",
       "      <td>24</td>\n",
       "    </tr>\n",
       "    <tr>\n",
       "      <th>24</th>\n",
       "      <td>NC_000961</td>\n",
       "      <td>25</td>\n",
       "    </tr>\n",
       "    <tr>\n",
       "      <th>25</th>\n",
       "      <td>AE003852</td>\n",
       "      <td>26</td>\n",
       "    </tr>\n",
       "    <tr>\n",
       "      <th>26</th>\n",
       "      <td>AE004091</td>\n",
       "      <td>27</td>\n",
       "    </tr>\n",
       "    <tr>\n",
       "      <th>27</th>\n",
       "      <td>AE003853</td>\n",
       "      <td>28</td>\n",
       "    </tr>\n",
       "    <tr>\n",
       "      <th>28</th>\n",
       "      <td>AE000782</td>\n",
       "      <td>29</td>\n",
       "    </tr>\n",
       "    <tr>\n",
       "      <th>29</th>\n",
       "      <td>AL096836</td>\n",
       "      <td>30</td>\n",
       "    </tr>\n",
       "    <tr>\n",
       "      <th>30</th>\n",
       "      <td>AL009126</td>\n",
       "      <td>31</td>\n",
       "    </tr>\n",
       "  </tbody>\n",
       "</table>\n",
       "</div>"
      ],
      "text/plain": [
       "            0  indices\n",
       "0    AE014075        1\n",
       "1    AE006470        2\n",
       "2    AE002161        3\n",
       "3    AE000512        4\n",
       "4    AE009442        5\n",
       "5    AE002098        6\n",
       "6    AE000666        7\n",
       "7    BA000002        8\n",
       "8    AL450380        9\n",
       "9    AE000516       10\n",
       "10   BA000004       11\n",
       "11   AE001437       12\n",
       "12   AL139299       13\n",
       "13     L77117       14\n",
       "14   AB001339       15\n",
       "15   AE015924       16\n",
       "16   AE000520       17\n",
       "17   AE005672       18\n",
       "18   NC_00918       19\n",
       "19   CP000025       20\n",
       "20   AL645882       21\n",
       "21     L42023       22\n",
       "22   AE004092       23\n",
       "23   CP000241       24\n",
       "24  NC_000961       25\n",
       "25   AE003852       26\n",
       "26   AE004091       27\n",
       "27   AE003853       28\n",
       "28   AE000782       29\n",
       "29   AL096836       30\n",
       "30   AL009126       31"
      ]
     },
     "execution_count": 3,
     "metadata": {},
     "output_type": "execute_result"
    }
   ],
   "source": [
    "print(\"Input Vector Shape\")\n",
    "print(X.shape)\n",
    "print(\"Initialized Training Vector Shape\")\n",
    "print(y.shape)\n",
    "print(\"Input Vector Head\")\n",
    "print(X[:3])\n",
    "print(\"Training Vector Head\")\n",
    "print(y[:3])\n",
    "print(\"Categories\")\n",
    "unique_classes"
   ]
  },
  {
   "cell_type": "markdown",
   "metadata": {
    "pycharm": {}
   },
   "source": [
    "### Prepare Train and Test Data"
   ]
  },
  {
   "cell_type": "code",
   "execution_count": 4,
   "metadata": {
    "pycharm": {
     "is_executing": false
    }
   },
   "outputs": [
    {
     "name": "stdout",
     "output_type": "stream",
     "text": [
      "            1         2         3         4         5         6         7   \\\n",
      "2113  0.000000  0.013333  0.005333  0.000000  0.000000  0.026667  0.013333   \n",
      "3029  0.075269  0.043011  0.043011  0.021505  0.000000  0.010753  0.000000   \n",
      "2130  0.056338  0.004695  0.000000  0.046948  0.014085  0.000000  0.004695   \n",
      "\n",
      "            8         9         10  ...        55        56        57     58  \\\n",
      "2113  0.000000  0.000000  0.008000  ...  0.018667  0.002667  0.002667  0.008   \n",
      "3029  0.000000  0.021505  0.000000  ...  0.010753  0.000000  0.000000  0.000   \n",
      "2130  0.023474  0.009390  0.004695  ...  0.004695  0.014085  0.000000  0.000   \n",
      "\n",
      "            59       60        61        62        63        64  \n",
      "2113  0.016000  0.00000  0.000000  0.029333  0.002667  0.000000  \n",
      "3029  0.010753  0.00000  0.021505  0.010753  0.010753  0.010753  \n",
      "2130  0.009390  0.00939  0.042254  0.004695  0.037559  0.028169  \n",
      "\n",
      "[3 rows x 64 columns]\n",
      "[[False False False False False False False False False False False False\n",
      "  False False False False False False False False  True False False False\n",
      "  False False False False False False False]\n",
      " [False False False False False False False False False False False False\n",
      "  False False False False False False False False False False False False\n",
      "  False False False False False  True False]\n",
      " [False False False False False False False False False False False False\n",
      "  False False False False False False False False False  True False False\n",
      "  False False False False False False False]]\n"
     ]
    }
   ],
   "source": [
    "X_train, X_test, y_train, y_test = train_test_split(X, y, test_size=0.2, random_state=5)\n",
    "print(X_train[:3])\n",
    "print(y_train[:3])"
   ]
  },
  {
   "cell_type": "markdown",
   "metadata": {
    "pycharm": {
     "metadata": false,
     "name": "#%% md\n"
    }
   },
   "source": [
    "## Step 2\n",
    "### Network 1\n",
    "-  Create neural network with single hidden layer\n",
    "-  Use **Accuracy** as metric of performance  \n"
   ]
  },
  {
   "cell_type": "code",
   "execution_count": 5,
   "metadata": {
    "pycharm": {}
   },
   "outputs": [
    {
     "data": {
      "text/plain": [
       "(['    def train(self, X, y, node_range, show_summary: bool = False):\\n',\n",
       "  '        X_train, X_test, y_train, y_test = train_test_split(X, y, test_size=0.01, random_state=5)\\n',\n",
       "  '        for num_nodes in node_range:\\n',\n",
       "  '            nodes = [64, num_nodes]\\n',\n",
       "  '            model = self.base_model(nodes)\\n',\n",
       "  '            summary = model.fit(X_train, y_train, epochs=10, verbose=0)\\n',\n",
       "  '            score = model.evaluate(X_test, y_test)\\n',\n",
       "  '            if show_summary:\\n',\n",
       "  '                model.summary()\\n',\n",
       "  \"            print('Test loss:', score[0])\\n\",\n",
       "  \"            print('Test accuracy:', score[1])\\n\"],\n",
       " 53)"
      ]
     },
     "execution_count": 5,
     "metadata": {},
     "output_type": "execute_result"
    }
   ],
   "source": [
    "inspect.getsourcelines(nn.train)"
   ]
  },
  {
   "cell_type": "code",
   "execution_count": 7,
   "metadata": {
    "pycharm": {
     "is_executing": false
    }
   },
   "outputs": [
    {
     "name": "stdout",
     "output_type": "stream",
     "text": [
      "32/32 [==============================] - 0s 2ms/step\n",
      "Test loss: 0.173843652009964\n",
      "Test accuracy: 0.9677419066429138\n"
     ]
    }
   ],
   "source": [
    "nn.train(X, y, range(1, 2), False)"
   ]
  },
  {
   "cell_type": "markdown",
   "metadata": {
    "pycharm": {
     "metadata": false,
     "name": "#%% md\n"
    }
   },
   "source": [
    ">  With just single layer we are getting accuracy of 97% Epoch=10"
   ]
  },
  {
   "cell_type": "markdown",
   "metadata": {
    "pycharm": {}
   },
   "source": [
    "## Step 3\n",
    "### Network 2\n",
    "-  Use the same model as step 1 for neurons  = 5 to 32\n",
    "-  Measure accuracy at each step to find optimal number of neurons"
   ]
  },
  {
   "cell_type": "code",
   "execution_count": 8,
   "metadata": {
    "pycharm": {}
   },
   "outputs": [
    {
     "ename": "TypeError",
     "evalue": "train_network_2() takes 3 positional arguments but 4 were given",
     "output_type": "error",
     "traceback": [
      "\u001b[0;31m\u001b[0m",
      "\u001b[0;31mTypeError\u001b[0mTraceback (most recent call last)",
      "\u001b[0;32m<ipython-input-8-a868d85b7166>\u001b[0m in \u001b[0;36m<module>\u001b[0;34m\u001b[0m\n\u001b[0;32m----> 1\u001b[0;31m \u001b[0mnn\u001b[0m\u001b[0;34m.\u001b[0m\u001b[0mtrain_network_2\u001b[0m\u001b[0;34m(\u001b[0m\u001b[0mX\u001b[0m\u001b[0;34m,\u001b[0m \u001b[0my\u001b[0m\u001b[0;34m,\u001b[0m \u001b[0mrange\u001b[0m\u001b[0;34m(\u001b[0m\u001b[0;36m5\u001b[0m\u001b[0;34m,\u001b[0m \u001b[0;36m32\u001b[0m\u001b[0;34m)\u001b[0m\u001b[0;34m)\u001b[0m\u001b[0;34m\u001b[0m\u001b[0m\n\u001b[0m",
      "\u001b[0;31mTypeError\u001b[0m: train_network_2() takes 3 positional arguments but 4 were given"
     ]
    }
   ],
   "source": [
    "nn.train_network_2(X, y, range(5, 32))"
   ]
  },
  {
   "cell_type": "markdown",
   "metadata": {
    "pycharm": {
     "metadata": false,
     "name": "#%% md\n"
    }
   },
   "source": [
    ">  Accuraccy is already at 96% in step 1, so we add regularize function to decrease accuracy and determine optimal number of neurons as 6\n",
    ">  P=6 "
   ]
  },
  {
   "cell_type": "markdown",
   "metadata": {
    "pycharm": {}
   },
   "source": [
    "## Step 4\n",
    "### Network 3\n",
    "-  Find optimal number of hidden layers with number of neurons as P/2\n",
    "-  Again, since the accuracy is very high, we will have to take regularizer function\n",
    "-  P=6, Number of neurons = P/2"
   ]
  },
  {
   "cell_type": "code",
   "execution_count": 9,
   "metadata": {
    "pycharm": {}
   },
   "outputs": [
    {
     "data": {
      "text/plain": [
       "(['    def train_network_3(self, X, y):\\n',\n",
       "  '        X_train, X_test, y_train, y_test = train_test_split(X, y, test_size=0.05, random_state=5)\\n',\n",
       "  '        P = 6\\n',\n",
       "  '        for num_layers in range(1, 10):\\n',\n",
       "  '            nodes = [64] + [int(P / 2)] * num_layers\\n',\n",
       "  '            model = self.base_model(nodes)\\n',\n",
       "  '            summary = model.fit(X_train, y_train, epochs=10, verbose=0)\\n',\n",
       "  '            score = model.evaluate(X_test, y_test)\\n',\n",
       "  \"            print('Test loss:', score[0])\\n\",\n",
       "  \"            print('Test accuracy:', score[1])\\n\"],\n",
       " 84)"
      ]
     },
     "execution_count": 9,
     "metadata": {},
     "output_type": "execute_result"
    }
   ],
   "source": [
    "inspect.getsourcelines(nn.train_network_3)"
   ]
  },
  {
   "cell_type": "code",
   "execution_count": 10,
   "metadata": {
    "pycharm": {},
    "scrolled": true
   },
   "outputs": [
    {
     "name": "stdout",
     "output_type": "stream",
     "text": [
      "157/157 [==============================] - 0s 595us/step\n",
      "Test loss: 0.14597524655093053\n",
      "Test accuracy: 0.9677418956331386\n",
      "157/157 [==============================] - 0s 691us/step\n",
      "Test loss: 0.1428366820713517\n",
      "Test accuracy: 0.9677418956331386\n",
      "157/157 [==============================] - 0s 926us/step\n",
      "Test loss: 0.1431814302114924\n",
      "Test accuracy: 0.9677418956331386\n",
      "157/157 [==============================] - 0s 1ms/step\n",
      "Test loss: 0.390599698397764\n",
      "Test accuracy: 0.9677418956331386\n",
      "157/157 [==============================] - 0s 2ms/step\n",
      "Test loss: 0.3905977587791006\n",
      "Test accuracy: 0.9677418956331386\n",
      "157/157 [==============================] - 0s 2ms/step\n",
      "Test loss: 0.1428815410205513\n",
      "Test accuracy: 0.9677418956331386\n",
      "157/157 [==============================] - 0s 2ms/step\n",
      "Test loss: 0.3906031858389545\n",
      "Test accuracy: 0.9677418956331386\n",
      "157/157 [==============================] - 0s 3ms/step\n",
      "Test loss: 0.14300724019290537\n",
      "Test accuracy: 0.9677418956331386\n",
      "157/157 [==============================] - 0s 3ms/step\n",
      "Test loss: 0.14950261469099932\n",
      "Test accuracy: 0.9677418956331386\n"
     ]
    }
   ],
   "source": [
    "nn.train_network_3(X, y)"
   ]
  },
  {
   "cell_type": "markdown",
   "metadata": {
    "pycharm": {}
   },
   "source": [
    ">  Because of high accuracy, we can select number of layers=31"
   ]
  },
  {
   "cell_type": "markdown",
   "metadata": {
    "pycharm": {}
   },
   "source": [
    "## Step 5\n",
    "### Network 4\n",
    "-  Without any conditions, determine optimal architecture\n",
    "-  We can run the training module with P=6 and Layers=32\n",
    "-  Save model for validation"
   ]
  },
  {
   "cell_type": "code",
   "execution_count": 11,
   "metadata": {
    "pycharm": {}
   },
   "outputs": [
    {
     "data": {
      "text/plain": [
       "(['    def train_with_callback(self, X, y, model_file: str = None):\\n',\n",
       "  '        if model_file is None:\\n',\n",
       "  '            model_file = self._model\\n',\n",
       "  '        plot_losses = TrainingPlot()\\n',\n",
       "  '        time_summary = TimeSummary()\\n',\n",
       "  '        X_train, X_test, y_train, y_test = train_test_split(X, y, test_size=0.01, random_state=5)\\n',\n",
       "  '        for num_nodes in range(31, 32):\\n',\n",
       "  '            nodes = [64, num_nodes]\\n',\n",
       "  '            model = self.base_model(nodes)\\n',\n",
       "  '            callbacks = [self._call_back, time_summary, plot_losses, self._call_back_model]\\n',\n",
       "  '            summary = model.fit(X_train, y_train, epochs=200, verbose=0, validation_data=(X_test, y_test),\\n',\n",
       "  '                                callbacks=callbacks)\\n',\n",
       "  '            score = model.evaluate(X_test, y_test)\\n',\n",
       "  '            plot_training_summary(summary, time_summary)\\n',\n",
       "  '            score = model.evaluate(X_test, y_test)\\n',\n",
       "  '            model.save(model_file)\\n',\n",
       "  \"            print('Test loss:', score[0])\\n\",\n",
       "  \"            print('Test accuracy:', score[1])\\n\"],\n",
       " 65)"
      ]
     },
     "execution_count": 11,
     "metadata": {},
     "output_type": "execute_result"
    }
   ],
   "source": [
    "inspect.getsourcelines(nn.train_with_callback)"
   ]
  },
  {
   "cell_type": "code",
   "execution_count": 3,
   "metadata": {
    "pycharm": {}
   },
   "outputs": [
    {
     "data": {
      "image/png": "[encoded data removed]",
      "text/plain": [
       "<Figure size 576x396 with 1 Axes>"
      ]
     },
     "metadata": {},
     "output_type": "display_data"
    },
    {
     "name": "stdout",
     "output_type": "stream",
     "text": [
      "811/811 [==============================] - 0s 21us/step\n",
      "Training time: 0:18:48.669460\n",
      "Epoch time avg: 0:00:04.992463\n"
     ]
    },
    {
     "data": {
      "image/png": "[encoded data removed]",
      "text/plain": [
       "<Figure size 576x396 with 1 Axes>"
      ]
     },
     "metadata": {},
     "output_type": "display_data"
    },
    {
     "data": {
      "image/png": "[encoded data removed]",
      "text/plain": [
       "<Figure size 576x396 with 1 Axes>"
      ]
     },
     "metadata": {},
     "output_type": "display_data"
    },
    {
     "name": "stdout",
     "output_type": "stream",
     "text": [
      "811/811 [==============================] - 0s 24us/step\n",
      "Test loss: 0.0317739239088851\n",
      "Test accuracy: 0.9892208097013386\n"
     ]
    }
   ],
   "source": [
    "nn.train_with_callback(X, y, '/tf/models/model.h5')"
   ]
  },
  {
   "cell_type": "markdown",
   "metadata": {},
   "source": [
    "# Validation\n",
    "### In this dataset, our neural network reaches accuracy of 96% with sample data and 98% with full dataset. Hence it is necessary to validate the accuracy of data with trained model.\n",
    "### Keras allows callbacks for training visualization. Function below runs for 200 epochs with 32 neurons and saves the model"
   ]
  },
  {
   "cell_type": "markdown",
   "metadata": {
    "pycharm": {
     "metadata": false
    }
   },
   "source": [
    "### Predict from souce data"
   ]
  },
  {
   "cell_type": "code",
   "execution_count": 13,
   "metadata": {
    "pycharm": {
     "metadata": false,
     "name": "#%%\n"
    }
   },
   "outputs": [
    {
     "data": {
      "text/plain": [
       "(['    def predict(self, file_path: str, classes: [], num_lines: int = 30, model_file: str = None):\\n',\n",
       "  '        if model_file is None:\\n',\n",
       "  '            model_file = self._model\\n',\n",
       "  '        model = load_model(model_file)\\n',\n",
       "  '        with open(file_path, \"r\") as fp:\\n',\n",
       "  '            for i, line in enumerate(fp):\\n',\n",
       "  '                predict_vector = np.array(line.split(\",\")).astype(float).reshape(1, 64)\\n',\n",
       "  '                prediction = model.predict_classes(predict_vector)\\n',\n",
       "  '                print(classes[0].values[prediction])\\n',\n",
       "  '                if i > num_lines:\\n',\n",
       "  '                    break\\n'],\n",
       " 121)"
      ]
     },
     "execution_count": 13,
     "metadata": {},
     "output_type": "execute_result"
    }
   ],
   "source": [
    "inspect.getsourcelines(nn.predict)"
   ]
  },
  {
   "cell_type": "code",
   "execution_count": 4,
   "metadata": {
    "pycharm": {
     "metadata": false,
     "name": "#%%\n"
    }
   },
   "outputs": [
    {
     "name": "stdout",
     "output_type": "stream",
     "text": [
      "['AE002161']\n",
      "['AE002161']\n",
      "['AE002161']\n",
      "['AE002161']\n",
      "['AE005672']\n",
      "['AE002161']\n",
      "['AE002161']\n"
     ]
    }
   ],
   "source": [
    "nn.predict(\"/tf/dataset/ae002161.csv\", unique_classes, 5, \"/tf/models/model.h5\")"
   ]
  },
  {
   "cell_type": "code",
   "execution_count": 5,
   "metadata": {
    "pycharm": {
     "metadata": false,
     "name": "#%%\n"
    }
   },
   "outputs": [
    {
     "name": "stdout",
     "output_type": "stream",
     "text": [
      "['BA000004']\n",
      "['AE014075']\n",
      "['AE003852']\n",
      "['AE003852']\n",
      "['AE003853']\n",
      "['AE003852']\n",
      "['AE014075']\n"
     ]
    }
   ],
   "source": [
    "nn.predict(\"/tf/dataset/ae003852.csv\", unique_classes, 5, \"/tf/models/model.h5\")"
   ]
  },
  {
   "cell_type": "markdown",
   "metadata": {
    "pycharm": {}
   },
   "source": [
    ">  As we can see that the accuracy is as expected for the first case but for second, it is less than expected."
   ]
  },
  {
   "cell_type": "markdown",
   "metadata": {
    "pycharm": {
     "metadata": false
    }
   },
   "source": [
    "## Step 6\n",
    "### Network 5\n",
    "-  We will use same training function with each column of y as 1D matrix\n",
    "-  Take average of each inidividual prediction"
   ]
  },
  {
   "cell_type": "code",
   "execution_count": 17,
   "metadata": {
    "pycharm": {}
   },
   "outputs": [
    {
     "data": {
      "text/plain": [
       "(['    def single_output_score(self, X, y):\\n',\n",
       "  '        total_score = 0\\n',\n",
       "  '        for y_i in range(self._num_classes - 1):\\n',\n",
       "  '            X_train, X_test, y_train, y_test = train_test_split(X, y[:, y_i], test_size=0.05, random_state=5)\\n',\n",
       "  '            num_nodes = 6\\n',\n",
       "  '            nodes = [64, num_nodes]\\n',\n",
       "  '            model = self.base_model(nodes, 1)\\n',\n",
       "  '            summary = model.fit(X_train, y_train, epochs=10, verbose=0)\\n',\n",
       "  '            score = model.evaluate(X_test, y_test)\\n',\n",
       "  \"            print('Test loss:', score[0])\\n\",\n",
       "  \"            print('Test accuracy:', score[1])\\n\",\n",
       "  '            total_score += score[1]\\n',\n",
       "  '        return total_score / self._num_classes\\n'],\n",
       " 107)"
      ]
     },
     "execution_count": 17,
     "metadata": {},
     "output_type": "execute_result"
    }
   ],
   "source": [
    "inspect.getsourcelines(nn.single_output_score)"
   ]
  },
  {
   "cell_type": "code",
   "execution_count": 19,
   "metadata": {
    "pycharm": {}
   },
   "outputs": [
    {
     "name": "stdout",
     "output_type": "stream",
     "text": [
      "157/157 [==============================] - 2s 10ms/step\n",
      "Test loss: 0.07732577090430412\n",
      "Test accuracy: 0.9872611430799885\n",
      "157/157 [==============================] - 1s 9ms/step\n",
      "Test loss: 0.15658430859541436\n",
      "Test accuracy: 0.961783436073619\n",
      "157/157 [==============================] - 1s 8ms/step\n",
      "Test loss: 0.13825968375346462\n",
      "Test accuracy: 0.9681528662420382\n",
      "157/157 [==============================] - 1s 9ms/step\n",
      "Test loss: 0.11715734802233944\n",
      "Test accuracy: 0.9745222971697521\n",
      "157/157 [==============================] - 2s 10ms/step\n",
      "Test loss: 0.10014801059558892\n",
      "Test accuracy: 0.9808917163283961\n",
      "157/157 [==============================] - 2s 11ms/step\n",
      "Test loss: 0.19908304597921433\n",
      "Test accuracy: 0.9490445833297292\n",
      "157/157 [==============================] - 2s 12ms/step\n",
      "Test loss: 0.198888181121486\n",
      "Test accuracy: 0.9490445901633827\n",
      "157/157 [==============================] - 2s 14ms/step\n",
      "Test loss: 0.14034528157133966\n",
      "Test accuracy: 0.9745222895768038\n",
      "157/157 [==============================] - 1s 9ms/step\n",
      "Test loss: 0.09580194520627618\n",
      "Test accuracy: 0.9808917197452229\n",
      "157/157 [==============================] - 2s 13ms/step\n",
      "Test loss: 0.18385491363561837\n",
      "Test accuracy: 0.942675155818842\n",
      "157/157 [==============================] - 2s 13ms/step\n",
      "Test loss: 0.18144306020846793\n",
      "Test accuracy: 0.9554140127388535\n",
      "157/157 [==============================] - 2s 13ms/step\n",
      "Test loss: 0.13384598322734712\n",
      "Test accuracy: 0.9681528628252114\n",
      "157/157 [==============================] - 2s 10ms/step\n",
      "Test loss: 0.15641445471982288\n",
      "Test accuracy: 0.9617834436665674\n",
      "157/157 [==============================] - 2s 10ms/step\n",
      "Test loss: 0.1275143894325396\n",
      "Test accuracy: 0.9681528662420382\n",
      "157/157 [==============================] - 2s 10ms/step\n",
      "Test loss: 0.09811327032222869\n",
      "Test accuracy: 0.9808917239213445\n",
      "157/157 [==============================] - 2s 10ms/step\n",
      "Test loss: 0.060625048864419294\n",
      "Test accuracy: 0.9936305698315808\n",
      "157/157 [==============================] - 2s 11ms/step\n",
      "Test loss: 0.22063269186171758\n",
      "Test accuracy: 0.942675155818842\n",
      "157/157 [==============================] - 2s 11ms/step\n",
      "Test loss: 0.09972449451400216\n",
      "Test accuracy: 0.9808917197452229\n",
      "157/157 [==============================] - 2s 11ms/step\n",
      "Test loss: 0.140882812677675\n",
      "Test accuracy: 0.9681528662420382\n",
      "157/157 [==============================] - 2s 12ms/step\n",
      "Test loss: 0.11735207326472945\n",
      "Test accuracy: 0.9745222929936306\n",
      "157/157 [==============================] - 2s 11ms/step\n",
      "Test loss: 0.08534067043453265\n",
      "Test accuracy: 0.9808917197452229\n",
      "157/157 [==============================] - 2s 14ms/step\n",
      "Test loss: 0.1172161751017449\n",
      "Test accuracy: 0.9745222929936306\n",
      "157/157 [==============================] - 3s 21ms/step\n",
      "Test loss: 0.13659868175816384\n",
      "Test accuracy: 0.9681528704181598\n",
      "157/157 [==============================] - 3s 20ms/step\n",
      "Test loss: 0.13505875739227435\n",
      "Test accuracy: 0.9681528662420382\n",
      "157/157 [==============================] - 3s 20ms/step\n",
      "Test loss: 0.1766032255758905\n",
      "Test accuracy: 0.9554140169149751\n",
      "157/157 [==============================] - 2s 13ms/step\n",
      "Test loss: 0.11675330398568681\n",
      "Test accuracy: 0.9745222929936306\n",
      "157/157 [==============================] - 2s 14ms/step\n",
      "Test loss: 0.08329797488678793\n",
      "Test accuracy: 0.9808917163283961\n",
      "157/157 [==============================] - 2s 13ms/step\n",
      "Test loss: 0.10446217551732519\n",
      "Test accuracy: 0.9808917163283961\n",
      "157/157 [==============================] - 2s 16ms/step\n",
      "Test loss: 0.17987773472526272\n",
      "Test accuracy: 0.9554140127388535\n",
      "157/157 [==============================] - 3s 21ms/step\n",
      "Test loss: 0.17949113797894709\n",
      "Test accuracy: 0.9554140127388535\n"
     ]
    },
    {
     "data": {
      "text/plain": [
       "0.9373330589998471"
      ]
     },
     "execution_count": 19,
     "metadata": {},
     "output_type": "execute_result"
    }
   ],
   "source": [
    "avg_score = nn.single_output_score(X, y)\n",
    "avg_score"
   ]
  },
  {
   "cell_type": "markdown",
   "metadata": {
    "pycharm": {
     "metadata": false,
     "name": "#%% md\n"
    }
   },
   "source": [
    ">  Average accuracy of individual prediction is less than overall prediction accuracy. Hence, we can conclude that it is better to create one network with N output neurons than N networks each with one output neuron."
   ]
  },
  {
   "cell_type": "markdown",
   "metadata": {
    "pycharm": {}
   },
   "source": [
    "---"
   ]
  },
  {
   "cell_type": "code",
   "execution_count": null,
   "metadata": {
    "pycharm": {}
   },
   "outputs": [],
   "source": [
    "##############  Validation with linear classification methods\n",
    "\n",
    "from sklearn.tree import DecisionTreeClassifier\n",
    "from sklearn.metrics import accuracy_score\n",
    "\n",
    "\n",
    "X_train, X_test, y_train, y_test = train_test_split(X, y, test_size=0.2, random_state=5)\n",
    "print(X.shape)\n",
    "print(y.shape)\n",
    "\n",
    "tmp = DecisionTreeClassifier(min_samples_leaf=10)\n",
    "tmp.fit(X_train, y_train)\n",
    "y_pred = tmp.predict(X_test)\n",
    "print('test', accuracy_score(y_pred, y_test))\n",
    "y_pred_train = tmp.predict(X_train)\n",
    "print('train', accuracy_score(y_pred_train, y_train))"
   ]
  },
  {
   "cell_type": "code",
   "execution_count": null,
   "metadata": {
    "pycharm": {}
   },
   "outputs": [],
   "source": [
    "##############  Validation with linear classification methods\n",
    "\n",
    "from sklearn.decomposition import PCA\n",
    "\n",
    "pca = PCA(n_components=2)\n",
    "pca.fit(X_train)\n",
    "# print(pca.components_)\n",
    "X_proj = pca.transform(X_test)\n",
    "\n",
    "f, ax = plt.subplots(2, sharex=True)\n",
    "f.set_figheight(10)\n",
    "ax[0].scatter(X_proj[:, 0], X_proj[:, 1], c=np.argmax(y_test, axis=1), alpha=0.9)\n",
    "ax[1].scatter(X_proj[:, 0], X_proj[:, 1], c=np.argmax(y_pred, axis=1), alpha=0.9)"
   ]
  }
 ],
 "metadata": {
  "kernelspec": {
   "display_name": "Python 3",
   "language": "python",
   "name": "python3"
  },
  "language_info": {
   "codemirror_mode": {
    "name": "ipython",
    "version": 3
   },
   "file_extension": ".py",
   "mimetype": "text/x-python",
   "name": "python",
   "nbconvert_exporter": "python",
   "pygments_lexer": "ipython3",
   "version": "3.5.2"
  },
  "stem_cell": {
   "cell_type": "raw",
   "metadata": {
    "pycharm": {
     "metadata": false
    }
   },
   "source": ""
  }
 },
 "nbformat": 4,
 "nbformat_minor": 2
}
