{
 "cells": [
  {
   "cell_type": "code",
   "execution_count": 1,
   "metadata": {
    "pycharm": {}
   },
   "outputs": [
    {
     "name": "stdout",
     "output_type": "stream",
     "text": [
      "Requirement already satisfied: numpy in /usr/local/lib/python3.5/dist-packages (1.16.2)\n",
      "Requirement already satisfied: pandas in /usr/local/lib/python3.5/dist-packages (0.24.2)\n",
      "Requirement already satisfied: numpy>=1.12.0 in /usr/local/lib/python3.5/dist-packages (from pandas) (1.16.2)\n",
      "Requirement already satisfied: pytz>=2011k in /usr/local/lib/python3.5/dist-packages (from pandas) (2018.9)\n",
      "Requirement already satisfied: python-dateutil>=2.5.0 in /usr/local/lib/python3.5/dist-packages (from pandas) (2.8.0)\n",
      "Requirement already satisfied: six>=1.5 in /usr/local/lib/python3.5/dist-packages (from python-dateutil>=2.5.0->pandas) (1.12.0)\n",
      "Requirement already satisfied: sklearn in /usr/local/lib/python3.5/dist-packages (0.0)\n",
      "Requirement already satisfied: scikit-learn in /usr/local/lib/python3.5/dist-packages (from sklearn) (0.20.3)\n",
      "Requirement already satisfied: numpy>=1.8.2 in /usr/local/lib/python3.5/dist-packages (from scikit-learn->sklearn) (1.16.2)\n",
      "Requirement already satisfied: scipy>=0.13.3 in /usr/local/lib/python3.5/dist-packages (from scikit-learn->sklearn) (1.2.1)\n",
      "Requirement already satisfied: keras in /usr/local/lib/python3.5/dist-packages (2.2.4)\n",
      "Requirement already satisfied: scipy>=0.14 in /usr/local/lib/python3.5/dist-packages (from keras) (1.2.1)\n",
      "Requirement already satisfied: keras-preprocessing>=1.0.5 in /usr/local/lib/python3.5/dist-packages (from keras) (1.0.9)\n",
      "Requirement already satisfied: numpy>=1.9.1 in /usr/local/lib/python3.5/dist-packages (from keras) (1.16.2)\n",
      "Requirement already satisfied: pyyaml in /usr/local/lib/python3.5/dist-packages (from keras) (5.1)\n",
      "Requirement already satisfied: h5py in /usr/local/lib/python3.5/dist-packages (from keras) (2.9.0)\n",
      "Requirement already satisfied: six>=1.9.0 in /usr/local/lib/python3.5/dist-packages (from keras) (1.12.0)\n",
      "Requirement already satisfied: keras-applications>=1.0.6 in /usr/local/lib/python3.5/dist-packages (from keras) (1.0.7)\n"
     ]
    }
   ],
   "source": [
    "import sys\n",
    "!{sys.executable} -m pip install numpy\n",
    "!{sys.executable} -m pip install pandas\n",
    "!{sys.executable} -m pip install sklearn\n",
    "!{sys.executable} -m pip install keras"
   ]
  },
  {
   "cell_type": "code",
   "execution_count": 2,
   "metadata": {
    "pycharm": {
     "metadata": false,
     "name": "#%%\n"
    }
   },
   "outputs": [
    {
     "name": "stderr",
     "output_type": "stream",
     "text": [
      "Using TensorFlow backend.\n"
     ]
    }
   ],
   "source": [
    "\n",
    "import numpy as np\n",
    "import pandas as pd\n",
    "from keras.callbacks import TensorBoard\n",
    "from keras.layers import Dense\n",
    "from keras.models import Sequential\n",
    "from keras.utils import plot_model\n",
    "from sklearn.model_selection import train_test_split\n"
   ]
  },
  {
   "cell_type": "code",
   "execution_count": 3,
   "metadata": {
    "pycharm": {
     "metadata": false,
     "name": "#%%\n"
    }
   },
   "outputs": [],
   "source": [
    "class NNKeras:\n",
    "    def __init__(self, url: str):\n",
    "        self._url = url\n",
    "        self._num_cols = 64\n",
    "        self._call_back = TensorBoard(log_dir='../logs', histogram_freq=0, batch_size=32, write_graph=True, write_grads=False, write_images=False, embeddings_freq=0, embeddings_layer_names=None, embeddings_metadata=None, embeddings_data=None, update_freq='epoch')\n",
    "\n",
    "    def read_data(self):\n",
    "        df = pd.read_csv(self._url, header=None)\n",
    "        X = df.iloc[:, 1:].astype(float)\n",
    "        classes = df.iloc[:, 0]\n",
    "        unique_classes = pd.DataFrame(sorted([c.upper() for c in classes.unique()]))\n",
    "        rows = X.shape[0]\n",
    "        unique_classes['indices'] = range(1, len(unique_classes) + 1)\n",
    "        y = np.zeros((rows, len(unique_classes)), np.bool)\n",
    "        for i in range(rows):\n",
    "            col_idx = np.where(unique_classes.loc[:, 0] == classes[i].upper())\n",
    "            y[i, col_idx] = True\n",
    "        return X, y, unique_classes\n",
    "\n",
    "    def base_model(self, nodes):\n",
    "        model = Sequential()\n",
    "\n",
    "        for prev_node, node in zip(nodes[:-1], nodes[1:]):\n",
    "            model.add(Dense(node, activation='relu', input_dim=prev_node))  # Add the first hidden layer\n",
    "\n",
    "        model.add(Dense(31, activation='sigmoid'))  # Add the output layer\n",
    "        model.compile(optimizer='adam', loss='binary_crossentropy', metrics=['accuracy'])\n",
    "        return model\n",
    "\n",
    "    def train(self, X, y):\n",
    "        X_train, X_test, y_train, y_test = train_test_split(X, y, test_size=0.05, random_state=5)\n",
    "\n",
    "        for num_nodes in range(2, 100):\n",
    "            nodes = [64, num_nodes]\n",
    "            model = self.base_model(nodes)\n",
    "            model.fit(X_train, y_train, epochs=1, verbose=0, callbacks=[self._call_back])\n",
    "            loss, accuracy = model.evaluate(X_test, y_test)\n",
    "            print(num_nodes, accuracy)"
   ]
  },
  {
   "cell_type": "code",
   "execution_count": 4,
   "metadata": {
    "pycharm": {}
   },
   "outputs": [],
   "source": [
    "nn = NNKeras(\"https://raw.githubusercontent.com/hardikgw/neural-network-poc/master/data/dataset/dataset.csv\")"
   ]
  },
  {
   "cell_type": "code",
   "execution_count": 5,
   "metadata": {
    "pycharm": {}
   },
   "outputs": [],
   "source": [
    "X, y, unique_classes = nn.read_data()"
   ]
  },
  {
   "cell_type": "code",
   "execution_count": null,
   "metadata": {
    "pycharm": {}
   },
   "outputs": [
    {
     "name": "stdout",
     "output_type": "stream",
     "text": [
      "WARNING:tensorflow:From /usr/local/lib/python3.5/dist-packages/tensorflow/python/framework/op_def_library.py:263: colocate_with (from tensorflow.python.framework.ops) is deprecated and will be removed in a future version.\n",
      "Instructions for updating:\n",
      "Colocations handled automatically by placer.\n",
      "WARNING:tensorflow:From /usr/local/lib/python3.5/dist-packages/tensorflow/python/ops/math_ops.py:3066: to_int32 (from tensorflow.python.ops.math_ops) is deprecated and will be removed in a future version.\n",
      "Instructions for updating:\n",
      "Use tf.cast instead.\n",
      "157/157 [==============================] - 0s 599us/step\n",
      "2 0.9677418956331386\n",
      "157/157 [==============================] - 0s 453us/step\n",
      "3 0.9677418956331386\n",
      "157/157 [==============================] - 0s 524us/step\n",
      "4 0.9677418956331386\n",
      "157/157 [==============================] - 0s 682us/step\n",
      "5 0.9675364243756434\n",
      "157/157 [==============================] - 0s 1ms/step\n",
      "6 0.941236913963488\n",
      "157/157 [==============================] - 0s 1ms/step\n",
      "7 0.9677418956331386\n",
      "157/157 [==============================] - 0s 1ms/step\n",
      "8 0.9677418956331386\n",
      "157/157 [==============================] - 0s 1ms/step\n",
      "9 0.9677418956331386\n",
      "157/157 [==============================] - 0s 2ms/step\n",
      "10 0.9677418956331386\n",
      "157/157 [==============================] - 0s 2ms/step\n",
      "11 0.9677418956331386\n",
      "157/157 [==============================] - 1s 3ms/step\n",
      "12 0.967947366890634\n",
      "157/157 [==============================] - 0s 2ms/step\n",
      "13 0.9677418956331386\n",
      "157/157 [==============================] - 0s 2ms/step\n",
      "14 0.94308608694441\n",
      "157/157 [==============================] - 0s 3ms/step\n",
      "15 0.9636326056377144\n",
      "157/157 [==============================] - 1s 6ms/step\n",
      "16 0.9677418956331386\n",
      "157/157 [==============================] - 0s 3ms/step\n",
      "17 0.9677418956331386\n",
      "157/157 [==============================] - 0s 3ms/step\n",
      "18 0.9677418956331386\n",
      "157/157 [==============================] - 1s 4ms/step\n",
      "19 0.9677418956331386\n",
      "157/157 [==============================] - 1s 5ms/step\n",
      "20 0.9677418956331386\n",
      "157/157 [==============================] - 1s 5ms/step\n",
      "21 0.9677418956331386\n",
      "157/157 [==============================] - 1s 4ms/step\n",
      "22 0.9677418956331386\n",
      "157/157 [==============================] - 1s 6ms/step\n",
      "23 0.9677418956331386\n",
      " 32/157 [=====>........................] - ETA: 3s"
     ]
    }
   ],
   "source": [
    "nn.train(X, y)"
   ]
  },
  {
   "cell_type": "code",
   "execution_count": null,
   "metadata": {
    "pycharm": {}
   },
   "outputs": [],
   "source": []
  }
 ],
 "metadata": {
  "kernelspec": {
   "display_name": "Python 3",
   "language": "python",
   "name": "python3"
  },
  "language_info": {
   "codemirror_mode": {
    "name": "ipython",
    "version": 3
   },
   "file_extension": ".py",
   "mimetype": "text/x-python",
   "name": "python",
   "nbconvert_exporter": "python",
   "pygments_lexer": "ipython3",
   "version": "3.5.2"
  }
 },
 "nbformat": 4,
 "nbformat_minor": 2
}
