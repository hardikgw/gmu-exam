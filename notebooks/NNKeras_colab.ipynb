{
  "nbformat": 4,
  "nbformat_minor": 0,
  "metadata": {
    "colab": {
      "name": "NNKeras.ipynb",
      "version": "0.3.2",
      "provenance": [],
      "include_colab_link": true
    },
    "kernelspec": {
      "display_name": "Python 3",
      "language": "python",
      "name": "python3"
    }
  },
  "cells": [
    {
      "cell_type": "markdown",
      "metadata": {
        "id": "view-in-github",
        "colab_type": "text"
      },
      "source": [
        "<a href=\"https://colab.research.google.com/github/hardikgw/neural-network-poc/blob/master/notebooks/NNKeras_colab.ipynb\" target=\"_parent\"><img src=\"https://colab.research.google.com/assets/colab-badge.svg\" alt=\"Open In Colab\"/></a>"
      ]
    },
    {
      "metadata": {
        "pycharm": {},
        "id": "faoZIE-YfEwM",
        "colab_type": "code",
        "colab": {
          "base_uri": "https://localhost:8080/",
          "height": 459
        },
        "outputId": "c47b4c11-0ff1-4324-8ea8-6113bc5a4ed4"
      },
      "cell_type": "code",
      "source": [
        "import sys\n",
        "!{sys.executable} -m pip install numpy\n",
        "!{sys.executable} -m pip install pandas\n",
        "!{sys.executable} -m pip install sklearn\n",
        "!{sys.executable} -m pip install keras\n",
        "!{sys.executable} -m pip install matplotlib"
      ],
      "execution_count": 10,
      "outputs": [
        {
          "output_type": "stream",
          "text": [
            "Requirement already satisfied: numpy in /usr/local/lib/python3.6/dist-packages (1.14.6)\n",
            "Requirement already satisfied: pandas in /usr/local/lib/python3.6/dist-packages (0.22.0)\n",
            "Requirement already satisfied: pytz>=2011k in /usr/local/lib/python3.6/dist-packages (from pandas) (2018.9)\n",
            "Requirement already satisfied: python-dateutil>=2 in /usr/local/lib/python3.6/dist-packages (from pandas) (2.5.3)\n",
            "Requirement already satisfied: numpy>=1.9.0 in /usr/local/lib/python3.6/dist-packages (from pandas) (1.14.6)\n",
            "Requirement already satisfied: six>=1.5 in /usr/local/lib/python3.6/dist-packages (from python-dateutil>=2->pandas) (1.11.0)\n",
            "Requirement already satisfied: sklearn in /usr/local/lib/python3.6/dist-packages (0.0)\n",
            "Requirement already satisfied: scikit-learn in /usr/local/lib/python3.6/dist-packages (from sklearn) (0.20.3)\n",
            "Requirement already satisfied: numpy>=1.8.2 in /usr/local/lib/python3.6/dist-packages (from scikit-learn->sklearn) (1.14.6)\n",
            "Requirement already satisfied: scipy>=0.13.3 in /usr/local/lib/python3.6/dist-packages (from scikit-learn->sklearn) (1.1.0)\n",
            "Requirement already satisfied: keras in /usr/local/lib/python3.6/dist-packages (2.2.4)\n",
            "Requirement already satisfied: six>=1.9.0 in /usr/local/lib/python3.6/dist-packages (from keras) (1.11.0)\n",
            "Requirement already satisfied: numpy>=1.9.1 in /usr/local/lib/python3.6/dist-packages (from keras) (1.14.6)\n",
            "Requirement already satisfied: keras-applications>=1.0.6 in /usr/local/lib/python3.6/dist-packages (from keras) (1.0.7)\n",
            "Requirement already satisfied: keras-preprocessing>=1.0.5 in /usr/local/lib/python3.6/dist-packages (from keras) (1.0.9)\n",
            "Requirement already satisfied: h5py in /usr/local/lib/python3.6/dist-packages (from keras) (2.8.0)\n",
            "Requirement already satisfied: pyyaml in /usr/local/lib/python3.6/dist-packages (from keras) (3.13)\n",
            "Requirement already satisfied: scipy>=0.14 in /usr/local/lib/python3.6/dist-packages (from keras) (1.1.0)\n",
            "Requirement already satisfied: matplotlib in /usr/local/lib/python3.6/dist-packages (3.0.3)\n",
            "Requirement already satisfied: kiwisolver>=1.0.1 in /usr/local/lib/python3.6/dist-packages (from matplotlib) (1.0.1)\n",
            "Requirement already satisfied: numpy>=1.10.0 in /usr/local/lib/python3.6/dist-packages (from matplotlib) (1.14.6)\n",
            "Requirement already satisfied: python-dateutil>=2.1 in /usr/local/lib/python3.6/dist-packages (from matplotlib) (2.5.3)\n",
            "Requirement already satisfied: cycler>=0.10 in /usr/local/lib/python3.6/dist-packages (from matplotlib) (0.10.0)\n",
            "Requirement already satisfied: pyparsing!=2.0.4,!=2.1.2,!=2.1.6,>=2.0.1 in /usr/local/lib/python3.6/dist-packages (from matplotlib) (2.3.1)\n",
            "Requirement already satisfied: setuptools in /usr/local/lib/python3.6/dist-packages (from kiwisolver>=1.0.1->matplotlib) (40.8.0)\n",
            "Requirement already satisfied: six>=1.5 in /usr/local/lib/python3.6/dist-packages (from python-dateutil>=2.1->matplotlib) (1.11.0)\n"
          ],
          "name": "stdout"
        }
      ]
    },
    {
      "metadata": {
        "pycharm": {
          "metadata": false,
          "name": "#%%\n"
        },
        "id": "PwXP6pm7fEwS",
        "colab_type": "code",
        "colab": {}
      },
      "cell_type": "code",
      "source": [
        "import time\n",
        "import numpy as np\n",
        "import pandas as pd\n",
        "from keras.callbacks import TensorBoard\n",
        "from keras.layers import Dense\n",
        "from keras.models import Sequential\n",
        "from sklearn.model_selection import train_test_split\n",
        "from keras.callbacks import Callback\n",
        "from itertools import groupby\n",
        "from statistics import mean\n",
        "import matplotlib.pyplot as plt\n",
        "from datetime import timedelta\n",
        "from IPython.display import clear_output"
      ],
      "execution_count": 0,
      "outputs": []
    },
    {
      "metadata": {
        "pycharm": {
          "metadata": false,
          "name": "#%%\n"
        },
        "id": "tJLTBgxFfEwV",
        "colab_type": "code",
        "colab": {}
      },
      "cell_type": "code",
      "source": [
        "def plot_training_summary(training_summary, time_summary=None):\n",
        "    if time_summary:\n",
        "        print('Training time: ' + str(timedelta(seconds=time_summary.training_time)))\n",
        "        print('Epoch time avg: '  + str(timedelta(seconds=mean(time_summary.epoch_times))))\n",
        "    hist = sorted(training_summary.history.items(),\n",
        "                  key=lambda x: (x[0].replace('val_', ''), x[0]))\n",
        "\n",
        "    epochs = [e + 1 for e in training_summary.epoch]\n",
        "    for metric, values in groupby(hist,\n",
        "                                  key=lambda x: x[0].replace('val_', '')):\n",
        "        if 'val_loss' in training_summary.history:\n",
        "            val0, val1 = tuple(values)\n",
        "            plt.plot(epochs, val0[1], epochs, val1[1], '--', marker='o')\n",
        "        else:\n",
        "            val0 = tuple(values)[0]\n",
        "            plt.plot(epochs, val0[1], '--', marker='o')\n",
        "        plt.xlabel('epoch'), plt.ylabel(val0[0])\n",
        "        plt.legend(('Train set', 'Validation set'))\n",
        "        plt.show()"
      ],
      "execution_count": 0,
      "outputs": []
    },
    {
      "metadata": {
        "id": "VwleNY_WfEwY",
        "colab_type": "code",
        "colab": {}
      },
      "cell_type": "code",
      "source": [
        "class TrainingPlot(Callback):\n",
        "    def on_train_begin(self, logs={}):\n",
        "        self.losses = []\n",
        "        self.acc = []\n",
        "        self.val_losses = []\n",
        "        self.val_acc = []\n",
        "        self.logs = []\n",
        "        \n",
        "    def on_epoch_end(self, epoch, logs={}):\n",
        "        self.logs.append(logs)\n",
        "        self.losses.append(logs.get('loss'))\n",
        "        self.acc.append(logs.get('acc'))\n",
        "        self.val_losses.append(logs.get('val_loss'))\n",
        "        self.val_acc.append(logs.get('val_acc'))\n",
        "        \n",
        "        if len(self.losses) > 1:\n",
        "            clear_output(wait=True)\n",
        "            N = np.arange(0, len(self.losses))\n",
        "            plt.style.use(\"seaborn\")\n",
        "            plt.figure()\n",
        "            plt.plot(N, self.losses, label = \"train_loss\")\n",
        "            plt.plot(N, self.acc, label = \"train_acc\")\n",
        "            plt.plot(N, self.val_losses, label = \"val_loss\")\n",
        "            plt.plot(N, self.val_acc, label = \"val_acc\")\n",
        "            plt.title(\"Training Loss and Accuracy [Epoch {}]\".format(epoch))\n",
        "            plt.xlabel(\"Epoch #\")\n",
        "            plt.ylabel(\"Loss/Accuracy\")\n",
        "            plt.legend()\n",
        "            plt.show()\n",
        "\n",
        "plot_losses = TrainingPlot()"
      ],
      "execution_count": 0,
      "outputs": []
    },
    {
      "metadata": {
        "pycharm": {
          "metadata": false,
          "name": "#%%\n"
        },
        "id": "ew1CUDtmfEwc",
        "colab_type": "code",
        "colab": {}
      },
      "cell_type": "code",
      "source": [
        "class TimeSummary(Callback):\n",
        "    def on_train_begin(self, logs={}):\n",
        "        self.epoch_times = []\n",
        "        self.training_time = time.process_time()\n",
        "\n",
        "    def on_train_end(self, logs={}):\n",
        "        self.training_time = time.process_time() - self.training_time\n",
        "\n",
        "    def on_epoch_begin(self, batch, logs={}):\n",
        "        self.epoch_time_start = time.process_time()\n",
        "\n",
        "    def on_epoch_end(self, batch, logs={}):\n",
        "        self.epoch_times.append(time.process_time() - self.epoch_time_start)"
      ],
      "execution_count": 0,
      "outputs": []
    },
    {
      "metadata": {
        "pycharm": {
          "metadata": false,
          "name": "#%%\n"
        },
        "id": "hAsWkuJyfEwf",
        "colab_type": "code",
        "colab": {}
      },
      "cell_type": "code",
      "source": [
        "class NNKeras:\n",
        "    def __init__(self, url: str):\n",
        "        self._url = url\n",
        "        self._num_cols = 64\n",
        "        self._call_back = TensorBoard(log_dir='../logs', histogram_freq=0, batch_size=32, write_graph=True, write_grads=False, write_images=False, embeddings_freq=0, embeddings_layer_names=None, embeddings_metadata=None, embeddings_data=None, update_freq='epoch')\n",
        "\n",
        "    def read_data(self):\n",
        "        df = pd.read_csv(self._url, header=None)\n",
        "        X = df.iloc[:, 1:].astype(float)\n",
        "        classes = df.iloc[:, 0]\n",
        "        unique_classes = pd.DataFrame(sorted([c.upper() for c in classes.unique()]))\n",
        "        rows = X.shape[0]\n",
        "        unique_classes['indices'] = range(1, len(unique_classes) + 1)\n",
        "        y = np.zeros((rows, len(unique_classes)), np.bool)\n",
        "        for i in range(rows):\n",
        "            col_idx = np.where(unique_classes.loc[:, 0] == classes[i].upper())\n",
        "            y[i, col_idx] = True\n",
        "        return X, y, unique_classes\n",
        "\n",
        "    def base_model(self, nodes):\n",
        "        model = Sequential()\n",
        "\n",
        "        for prev_node, node in zip(nodes[:-1], nodes[1:]):\n",
        "            model.add(Dense(node, activation='relu', input_dim=prev_node))  # Add the first hidden layer\n",
        "\n",
        "        model.add(Dense(31, activation='sigmoid'))  # Add the output layer\n",
        "        model.compile(optimizer='adam', loss='binary_crossentropy', metrics=['accuracy'])\n",
        "        return model\n",
        "\n",
        "    def train(self, X, y):\n",
        "        X_train, X_test, y_train, y_test = train_test_split(X, y, test_size=0.05, random_state=5)\n",
        "        time_summary = TimeSummary()\n",
        "        for num_nodes in range(2, 100):\n",
        "            nodes = [64, num_nodes]\n",
        "            model = self.base_model(nodes)\n",
        "            summary = model.fit(X_train, y_train, epochs=10, verbose=0, callbacks=[self._call_back,time_summary,plot_losses])\n",
        "            score = model.evaluate(X_test, y_test)\n",
        "            plot_training_summary(summary, time_summary)\n",
        "            print('Test loss:', score[0])\n",
        "            print('Test accuracy:', score[1])"
      ],
      "execution_count": 0,
      "outputs": []
    },
    {
      "metadata": {
        "pycharm": {},
        "id": "4Xh3kC6SfEwh",
        "colab_type": "code",
        "colab": {}
      },
      "cell_type": "code",
      "source": [
        "nn = NNKeras(\"https://raw.githubusercontent.com/hardikgw/neural-network-poc/master/data/dataset/dataset.csv\")\n",
        "#nn = NNKeras(\"/tf/dataset/dataset.csv\")"
      ],
      "execution_count": 0,
      "outputs": []
    },
    {
      "metadata": {
        "pycharm": {},
        "id": "0UES-bV7fEwj",
        "colab_type": "code",
        "colab": {}
      },
      "cell_type": "code",
      "source": [
        "X, y, unique_classes = nn.read_data()"
      ],
      "execution_count": 0,
      "outputs": []
    },
    {
      "metadata": {
        "pycharm": {},
        "id": "YmxvoE0BfEwm",
        "colab_type": "code",
        "colab": {
          "base_uri": "https://localhost:8080/",
          "height": 1149
        },
        "outputId": "44ff7695-23d3-44d2-bdb1-9e5ee2945482"
      },
      "cell_type": "code",
      "source": [
        "nn.train(X, y)"
      ],
      "execution_count": 0,
      "outputs": [
        {
          "output_type": "display_data",
          "data": {
            "image/png": "[encoded data removed]",
            "text/plain": [
              "<Figure size 576x396 with 1 Axes>"
            ]
          },
          "metadata": {
            "tags": []
          }
        },
        {
          "output_type": "stream",
          "text": [
            "157/157 [==============================] - 3s 19ms/step\n",
            "Training time: 0:00:08.439784\n",
            "Epoch time avg: 0:00:00.397236\n"
          ],
          "name": "stdout"
        },
        {
          "output_type": "display_data",
          "data": {
            "image/png": "[encoded data removed]",
            "text/plain": [
              "<Figure size 576x396 with 1 Axes>"
            ]
          },
          "metadata": {
            "tags": []
          }
        },
        {
          "output_type": "display_data",
          "data": {
            "image/png": "[encoded data removed]",
            "text/plain": [
              "<Figure size 576x396 with 1 Axes>"
            ]
          },
          "metadata": {
            "tags": []
          }
        },
        {
          "output_type": "stream",
          "text": [
            "Test loss: 0.14259430054266742\n",
            "Test accuracy: 0.9677418956331386\n"
          ],
          "name": "stdout"
        }
      ]
    },
    {
      "metadata": {
        "pycharm": {},
        "id": "szauJhHRfEws",
        "colab_type": "code",
        "colab": {}
      },
      "cell_type": "code",
      "source": [
        ""
      ],
      "execution_count": 0,
      "outputs": []
    }
  ]
}